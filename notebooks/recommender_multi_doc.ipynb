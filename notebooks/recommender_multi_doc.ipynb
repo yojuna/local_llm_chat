{
  "nbformat": 4,
  "nbformat_minor": 0,
  "metadata": {
    "colab": {
      "provenance": []
    },
    "kernelspec": {
      "name": "python3",
      "display_name": "Python 3"
    },
    "language_info": {
      "name": "python"
    }
  },
  "cells": [
    {
      "cell_type": "markdown",
      "source": [
        "## setup/installation"
      ],
      "metadata": {
        "id": "utbiQw4pb628"
      }
    },
    {
      "cell_type": "code",
      "execution_count": null,
      "metadata": {
        "colab": {
          "base_uri": "https://localhost:8080/"
        },
        "collapsed": true,
        "id": "nUaOw4dubmoO",
        "outputId": "25655076-52db-45de-afca-1525c94c9148"
      },
      "outputs": [
        {
          "output_type": "stream",
          "name": "stdout",
          "text": [
            "Collecting llama-index-agent-openai\n",
            "  Downloading llama_index_agent_openai-0.2.5-py3-none-any.whl (13 kB)\n",
            "Collecting llama-index-core<0.11.0,>=0.10.35 (from llama-index-agent-openai)\n",
            "  Downloading llama_index_core-0.10.39-py3-none-any.whl (15.4 MB)\n",
            "\u001b[2K     \u001b[90m━━━━━━━━━━━━━━━━━━━━━━━━━━━━━━━━━━━━━━━━\u001b[0m \u001b[32m15.4/15.4 MB\u001b[0m \u001b[31m11.4 MB/s\u001b[0m eta \u001b[36m0:00:00\u001b[0m\n",
            "\u001b[?25hCollecting llama-index-llms-openai<0.2.0,>=0.1.5 (from llama-index-agent-openai)\n",
            "  Downloading llama_index_llms_openai-0.1.21-py3-none-any.whl (11 kB)\n",
            "Collecting openai>=1.14.0 (from llama-index-agent-openai)\n",
            "  Downloading openai-1.30.3-py3-none-any.whl (320 kB)\n",
            "\u001b[2K     \u001b[90m━━━━━━━━━━━━━━━━━━━━━━━━━━━━━━━━━━━━━━━━\u001b[0m \u001b[32m320.6/320.6 kB\u001b[0m \u001b[31m12.8 MB/s\u001b[0m eta \u001b[36m0:00:00\u001b[0m\n",
            "\u001b[?25hRequirement already satisfied: PyYAML>=6.0.1 in /usr/local/lib/python3.10/dist-packages (from llama-index-core<0.11.0,>=0.10.35->llama-index-agent-openai) (6.0.1)\n",
            "Requirement already satisfied: SQLAlchemy[asyncio]>=1.4.49 in /usr/local/lib/python3.10/dist-packages (from llama-index-core<0.11.0,>=0.10.35->llama-index-agent-openai) (2.0.30)\n",
            "Requirement already satisfied: aiohttp<4.0.0,>=3.8.6 in /usr/local/lib/python3.10/dist-packages (from llama-index-core<0.11.0,>=0.10.35->llama-index-agent-openai) (3.9.5)\n",
            "Collecting dataclasses-json (from llama-index-core<0.11.0,>=0.10.35->llama-index-agent-openai)\n",
            "  Downloading dataclasses_json-0.6.6-py3-none-any.whl (28 kB)\n",
            "Collecting deprecated>=1.2.9.3 (from llama-index-core<0.11.0,>=0.10.35->llama-index-agent-openai)\n",
            "  Downloading Deprecated-1.2.14-py2.py3-none-any.whl (9.6 kB)\n",
            "Collecting dirtyjson<2.0.0,>=1.0.8 (from llama-index-core<0.11.0,>=0.10.35->llama-index-agent-openai)\n",
            "  Downloading dirtyjson-1.0.8-py3-none-any.whl (25 kB)\n",
            "Requirement already satisfied: fsspec>=2023.5.0 in /usr/local/lib/python3.10/dist-packages (from llama-index-core<0.11.0,>=0.10.35->llama-index-agent-openai) (2023.6.0)\n",
            "Collecting httpx (from llama-index-core<0.11.0,>=0.10.35->llama-index-agent-openai)\n",
            "  Downloading httpx-0.27.0-py3-none-any.whl (75 kB)\n",
            "\u001b[2K     \u001b[90m━━━━━━━━━━━━━━━━━━━━━━━━━━━━━━━━━━━━━━━━\u001b[0m \u001b[32m75.6/75.6 kB\u001b[0m \u001b[31m3.8 MB/s\u001b[0m eta \u001b[36m0:00:00\u001b[0m\n",
            "\u001b[?25hCollecting llamaindex-py-client<0.2.0,>=0.1.18 (from llama-index-core<0.11.0,>=0.10.35->llama-index-agent-openai)\n",
            "  Downloading llamaindex_py_client-0.1.19-py3-none-any.whl (141 kB)\n",
            "\u001b[2K     \u001b[90m━━━━━━━━━━━━━━━━━━━━━━━━━━━━━━━━━━━━━━━━\u001b[0m \u001b[32m141.9/141.9 kB\u001b[0m \u001b[31m1.8 MB/s\u001b[0m eta \u001b[36m0:00:00\u001b[0m\n",
            "\u001b[?25hRequirement already satisfied: nest-asyncio<2.0.0,>=1.5.8 in /usr/local/lib/python3.10/dist-packages (from llama-index-core<0.11.0,>=0.10.35->llama-index-agent-openai) (1.6.0)\n",
            "Requirement already satisfied: networkx>=3.0 in /usr/local/lib/python3.10/dist-packages (from llama-index-core<0.11.0,>=0.10.35->llama-index-agent-openai) (3.3)\n",
            "Requirement already satisfied: nltk<4.0.0,>=3.8.1 in /usr/local/lib/python3.10/dist-packages (from llama-index-core<0.11.0,>=0.10.35->llama-index-agent-openai) (3.8.1)\n",
            "Requirement already satisfied: numpy in /usr/local/lib/python3.10/dist-packages (from llama-index-core<0.11.0,>=0.10.35->llama-index-agent-openai) (1.25.2)\n",
            "Requirement already satisfied: pandas in /usr/local/lib/python3.10/dist-packages (from llama-index-core<0.11.0,>=0.10.35->llama-index-agent-openai) (2.0.3)\n",
            "Requirement already satisfied: pillow>=9.0.0 in /usr/local/lib/python3.10/dist-packages (from llama-index-core<0.11.0,>=0.10.35->llama-index-agent-openai) (9.4.0)\n",
            "Requirement already satisfied: requests>=2.31.0 in /usr/local/lib/python3.10/dist-packages (from llama-index-core<0.11.0,>=0.10.35->llama-index-agent-openai) (2.31.0)\n",
            "Requirement already satisfied: tenacity<9.0.0,>=8.2.0 in /usr/local/lib/python3.10/dist-packages (from llama-index-core<0.11.0,>=0.10.35->llama-index-agent-openai) (8.3.0)\n",
            "Collecting tiktoken>=0.3.3 (from llama-index-core<0.11.0,>=0.10.35->llama-index-agent-openai)\n",
            "  Downloading tiktoken-0.7.0-cp310-cp310-manylinux_2_17_x86_64.manylinux2014_x86_64.whl (1.1 MB)\n",
            "\u001b[2K     \u001b[90m━━━━━━━━━━━━━━━━━━━━━━━━━━━━━━━━━━━━━━━━\u001b[0m \u001b[32m1.1/1.1 MB\u001b[0m \u001b[31m12.7 MB/s\u001b[0m eta \u001b[36m0:00:00\u001b[0m\n",
            "\u001b[?25hRequirement already satisfied: tqdm<5.0.0,>=4.66.1 in /usr/local/lib/python3.10/dist-packages (from llama-index-core<0.11.0,>=0.10.35->llama-index-agent-openai) (4.66.4)\n",
            "Requirement already satisfied: typing-extensions>=4.5.0 in /usr/local/lib/python3.10/dist-packages (from llama-index-core<0.11.0,>=0.10.35->llama-index-agent-openai) (4.11.0)\n",
            "Collecting typing-inspect>=0.8.0 (from llama-index-core<0.11.0,>=0.10.35->llama-index-agent-openai)\n",
            "  Downloading typing_inspect-0.9.0-py3-none-any.whl (8.8 kB)\n",
            "Requirement already satisfied: wrapt in /usr/local/lib/python3.10/dist-packages (from llama-index-core<0.11.0,>=0.10.35->llama-index-agent-openai) (1.14.1)\n",
            "Requirement already satisfied: anyio<5,>=3.5.0 in /usr/local/lib/python3.10/dist-packages (from openai>=1.14.0->llama-index-agent-openai) (3.7.1)\n",
            "Requirement already satisfied: distro<2,>=1.7.0 in /usr/lib/python3/dist-packages (from openai>=1.14.0->llama-index-agent-openai) (1.7.0)\n",
            "Requirement already satisfied: pydantic<3,>=1.9.0 in /usr/local/lib/python3.10/dist-packages (from openai>=1.14.0->llama-index-agent-openai) (2.7.1)\n",
            "Requirement already satisfied: sniffio in /usr/local/lib/python3.10/dist-packages (from openai>=1.14.0->llama-index-agent-openai) (1.3.1)\n",
            "Requirement already satisfied: aiosignal>=1.1.2 in /usr/local/lib/python3.10/dist-packages (from aiohttp<4.0.0,>=3.8.6->llama-index-core<0.11.0,>=0.10.35->llama-index-agent-openai) (1.3.1)\n",
            "Requirement already satisfied: attrs>=17.3.0 in /usr/local/lib/python3.10/dist-packages (from aiohttp<4.0.0,>=3.8.6->llama-index-core<0.11.0,>=0.10.35->llama-index-agent-openai) (23.2.0)\n",
            "Requirement already satisfied: frozenlist>=1.1.1 in /usr/local/lib/python3.10/dist-packages (from aiohttp<4.0.0,>=3.8.6->llama-index-core<0.11.0,>=0.10.35->llama-index-agent-openai) (1.4.1)\n",
            "Requirement already satisfied: multidict<7.0,>=4.5 in /usr/local/lib/python3.10/dist-packages (from aiohttp<4.0.0,>=3.8.6->llama-index-core<0.11.0,>=0.10.35->llama-index-agent-openai) (6.0.5)\n",
            "Requirement already satisfied: yarl<2.0,>=1.0 in /usr/local/lib/python3.10/dist-packages (from aiohttp<4.0.0,>=3.8.6->llama-index-core<0.11.0,>=0.10.35->llama-index-agent-openai) (1.9.4)\n",
            "Requirement already satisfied: async-timeout<5.0,>=4.0 in /usr/local/lib/python3.10/dist-packages (from aiohttp<4.0.0,>=3.8.6->llama-index-core<0.11.0,>=0.10.35->llama-index-agent-openai) (4.0.3)\n",
            "Requirement already satisfied: idna>=2.8 in /usr/local/lib/python3.10/dist-packages (from anyio<5,>=3.5.0->openai>=1.14.0->llama-index-agent-openai) (3.7)\n",
            "Requirement already satisfied: exceptiongroup in /usr/local/lib/python3.10/dist-packages (from anyio<5,>=3.5.0->openai>=1.14.0->llama-index-agent-openai) (1.2.1)\n",
            "Requirement already satisfied: certifi in /usr/local/lib/python3.10/dist-packages (from httpx->llama-index-core<0.11.0,>=0.10.35->llama-index-agent-openai) (2024.2.2)\n",
            "Collecting httpcore==1.* (from httpx->llama-index-core<0.11.0,>=0.10.35->llama-index-agent-openai)\n",
            "  Downloading httpcore-1.0.5-py3-none-any.whl (77 kB)\n",
            "\u001b[2K     \u001b[90m━━━━━━━━━━━━━━━━━━━━━━━━━━━━━━━━━━━━━━━━\u001b[0m \u001b[32m77.9/77.9 kB\u001b[0m \u001b[31m4.7 MB/s\u001b[0m eta \u001b[36m0:00:00\u001b[0m\n",
            "\u001b[?25hCollecting h11<0.15,>=0.13 (from httpcore==1.*->httpx->llama-index-core<0.11.0,>=0.10.35->llama-index-agent-openai)\n",
            "  Downloading h11-0.14.0-py3-none-any.whl (58 kB)\n",
            "\u001b[2K     \u001b[90m━━━━━━━━━━━━━━━━━━━━━━━━━━━━━━━━━━━━━━━━\u001b[0m \u001b[32m58.3/58.3 kB\u001b[0m \u001b[31m4.1 MB/s\u001b[0m eta \u001b[36m0:00:00\u001b[0m\n",
            "\u001b[?25hRequirement already satisfied: click in /usr/local/lib/python3.10/dist-packages (from nltk<4.0.0,>=3.8.1->llama-index-core<0.11.0,>=0.10.35->llama-index-agent-openai) (8.1.7)\n",
            "Requirement already satisfied: joblib in /usr/local/lib/python3.10/dist-packages (from nltk<4.0.0,>=3.8.1->llama-index-core<0.11.0,>=0.10.35->llama-index-agent-openai) (1.4.2)\n",
            "Requirement already satisfied: regex>=2021.8.3 in /usr/local/lib/python3.10/dist-packages (from nltk<4.0.0,>=3.8.1->llama-index-core<0.11.0,>=0.10.35->llama-index-agent-openai) (2023.12.25)\n",
            "Requirement already satisfied: annotated-types>=0.4.0 in /usr/local/lib/python3.10/dist-packages (from pydantic<3,>=1.9.0->openai>=1.14.0->llama-index-agent-openai) (0.7.0)\n",
            "Requirement already satisfied: pydantic-core==2.18.2 in /usr/local/lib/python3.10/dist-packages (from pydantic<3,>=1.9.0->openai>=1.14.0->llama-index-agent-openai) (2.18.2)\n",
            "Requirement already satisfied: charset-normalizer<4,>=2 in /usr/local/lib/python3.10/dist-packages (from requests>=2.31.0->llama-index-core<0.11.0,>=0.10.35->llama-index-agent-openai) (3.3.2)\n",
            "Requirement already satisfied: urllib3<3,>=1.21.1 in /usr/local/lib/python3.10/dist-packages (from requests>=2.31.0->llama-index-core<0.11.0,>=0.10.35->llama-index-agent-openai) (2.0.7)\n",
            "Requirement already satisfied: greenlet!=0.4.17 in /usr/local/lib/python3.10/dist-packages (from SQLAlchemy[asyncio]>=1.4.49->llama-index-core<0.11.0,>=0.10.35->llama-index-agent-openai) (3.0.3)\n",
            "Collecting mypy-extensions>=0.3.0 (from typing-inspect>=0.8.0->llama-index-core<0.11.0,>=0.10.35->llama-index-agent-openai)\n",
            "  Downloading mypy_extensions-1.0.0-py3-none-any.whl (4.7 kB)\n",
            "Collecting marshmallow<4.0.0,>=3.18.0 (from dataclasses-json->llama-index-core<0.11.0,>=0.10.35->llama-index-agent-openai)\n",
            "  Downloading marshmallow-3.21.2-py3-none-any.whl (49 kB)\n",
            "\u001b[2K     \u001b[90m━━━━━━━━━━━━━━━━━━━━━━━━━━━━━━━━━━━━━━━━\u001b[0m \u001b[32m49.3/49.3 kB\u001b[0m \u001b[31m3.7 MB/s\u001b[0m eta \u001b[36m0:00:00\u001b[0m\n",
            "\u001b[?25hRequirement already satisfied: python-dateutil>=2.8.2 in /usr/local/lib/python3.10/dist-packages (from pandas->llama-index-core<0.11.0,>=0.10.35->llama-index-agent-openai) (2.8.2)\n",
            "Requirement already satisfied: pytz>=2020.1 in /usr/local/lib/python3.10/dist-packages (from pandas->llama-index-core<0.11.0,>=0.10.35->llama-index-agent-openai) (2023.4)\n",
            "Requirement already satisfied: tzdata>=2022.1 in /usr/local/lib/python3.10/dist-packages (from pandas->llama-index-core<0.11.0,>=0.10.35->llama-index-agent-openai) (2024.1)\n",
            "Requirement already satisfied: packaging>=17.0 in /usr/local/lib/python3.10/dist-packages (from marshmallow<4.0.0,>=3.18.0->dataclasses-json->llama-index-core<0.11.0,>=0.10.35->llama-index-agent-openai) (24.0)\n",
            "Requirement already satisfied: six>=1.5 in /usr/local/lib/python3.10/dist-packages (from python-dateutil>=2.8.2->pandas->llama-index-core<0.11.0,>=0.10.35->llama-index-agent-openai) (1.16.0)\n",
            "Installing collected packages: dirtyjson, mypy-extensions, marshmallow, h11, deprecated, typing-inspect, tiktoken, httpcore, httpx, dataclasses-json, openai, llamaindex-py-client, llama-index-core, llama-index-llms-openai, llama-index-agent-openai\n",
            "Successfully installed dataclasses-json-0.6.6 deprecated-1.2.14 dirtyjson-1.0.8 h11-0.14.0 httpcore-1.0.5 httpx-0.27.0 llama-index-agent-openai-0.2.5 llama-index-core-0.10.39 llama-index-llms-openai-0.1.21 llamaindex-py-client-0.1.19 marshmallow-3.21.2 mypy-extensions-1.0.0 openai-1.30.3 tiktoken-0.7.0 typing-inspect-0.9.0\n",
            "Collecting llama-index-embeddings-openai\n",
            "  Downloading llama_index_embeddings_openai-0.1.10-py3-none-any.whl (6.2 kB)\n",
            "Requirement already satisfied: llama-index-core<0.11.0,>=0.10.1 in /usr/local/lib/python3.10/dist-packages (from llama-index-embeddings-openai) (0.10.39)\n",
            "Requirement already satisfied: PyYAML>=6.0.1 in /usr/local/lib/python3.10/dist-packages (from llama-index-core<0.11.0,>=0.10.1->llama-index-embeddings-openai) (6.0.1)\n",
            "Requirement already satisfied: SQLAlchemy[asyncio]>=1.4.49 in /usr/local/lib/python3.10/dist-packages (from llama-index-core<0.11.0,>=0.10.1->llama-index-embeddings-openai) (2.0.30)\n",
            "Requirement already satisfied: aiohttp<4.0.0,>=3.8.6 in /usr/local/lib/python3.10/dist-packages (from llama-index-core<0.11.0,>=0.10.1->llama-index-embeddings-openai) (3.9.5)\n",
            "Requirement already satisfied: dataclasses-json in /usr/local/lib/python3.10/dist-packages (from llama-index-core<0.11.0,>=0.10.1->llama-index-embeddings-openai) (0.6.6)\n",
            "Requirement already satisfied: deprecated>=1.2.9.3 in /usr/local/lib/python3.10/dist-packages (from llama-index-core<0.11.0,>=0.10.1->llama-index-embeddings-openai) (1.2.14)\n",
            "Requirement already satisfied: dirtyjson<2.0.0,>=1.0.8 in /usr/local/lib/python3.10/dist-packages (from llama-index-core<0.11.0,>=0.10.1->llama-index-embeddings-openai) (1.0.8)\n",
            "Requirement already satisfied: fsspec>=2023.5.0 in /usr/local/lib/python3.10/dist-packages (from llama-index-core<0.11.0,>=0.10.1->llama-index-embeddings-openai) (2023.6.0)\n",
            "Requirement already satisfied: httpx in /usr/local/lib/python3.10/dist-packages (from llama-index-core<0.11.0,>=0.10.1->llama-index-embeddings-openai) (0.27.0)\n",
            "Requirement already satisfied: llamaindex-py-client<0.2.0,>=0.1.18 in /usr/local/lib/python3.10/dist-packages (from llama-index-core<0.11.0,>=0.10.1->llama-index-embeddings-openai) (0.1.19)\n",
            "Requirement already satisfied: nest-asyncio<2.0.0,>=1.5.8 in /usr/local/lib/python3.10/dist-packages (from llama-index-core<0.11.0,>=0.10.1->llama-index-embeddings-openai) (1.6.0)\n",
            "Requirement already satisfied: networkx>=3.0 in /usr/local/lib/python3.10/dist-packages (from llama-index-core<0.11.0,>=0.10.1->llama-index-embeddings-openai) (3.3)\n",
            "Requirement already satisfied: nltk<4.0.0,>=3.8.1 in /usr/local/lib/python3.10/dist-packages (from llama-index-core<0.11.0,>=0.10.1->llama-index-embeddings-openai) (3.8.1)\n",
            "Requirement already satisfied: numpy in /usr/local/lib/python3.10/dist-packages (from llama-index-core<0.11.0,>=0.10.1->llama-index-embeddings-openai) (1.25.2)\n",
            "Requirement already satisfied: openai>=1.1.0 in /usr/local/lib/python3.10/dist-packages (from llama-index-core<0.11.0,>=0.10.1->llama-index-embeddings-openai) (1.30.3)\n",
            "Requirement already satisfied: pandas in /usr/local/lib/python3.10/dist-packages (from llama-index-core<0.11.0,>=0.10.1->llama-index-embeddings-openai) (2.0.3)\n",
            "Requirement already satisfied: pillow>=9.0.0 in /usr/local/lib/python3.10/dist-packages (from llama-index-core<0.11.0,>=0.10.1->llama-index-embeddings-openai) (9.4.0)\n",
            "Requirement already satisfied: requests>=2.31.0 in /usr/local/lib/python3.10/dist-packages (from llama-index-core<0.11.0,>=0.10.1->llama-index-embeddings-openai) (2.31.0)\n",
            "Requirement already satisfied: tenacity<9.0.0,>=8.2.0 in /usr/local/lib/python3.10/dist-packages (from llama-index-core<0.11.0,>=0.10.1->llama-index-embeddings-openai) (8.3.0)\n",
            "Requirement already satisfied: tiktoken>=0.3.3 in /usr/local/lib/python3.10/dist-packages (from llama-index-core<0.11.0,>=0.10.1->llama-index-embeddings-openai) (0.7.0)\n",
            "Requirement already satisfied: tqdm<5.0.0,>=4.66.1 in /usr/local/lib/python3.10/dist-packages (from llama-index-core<0.11.0,>=0.10.1->llama-index-embeddings-openai) (4.66.4)\n",
            "Requirement already satisfied: typing-extensions>=4.5.0 in /usr/local/lib/python3.10/dist-packages (from llama-index-core<0.11.0,>=0.10.1->llama-index-embeddings-openai) (4.11.0)\n",
            "Requirement already satisfied: typing-inspect>=0.8.0 in /usr/local/lib/python3.10/dist-packages (from llama-index-core<0.11.0,>=0.10.1->llama-index-embeddings-openai) (0.9.0)\n",
            "Requirement already satisfied: wrapt in /usr/local/lib/python3.10/dist-packages (from llama-index-core<0.11.0,>=0.10.1->llama-index-embeddings-openai) (1.14.1)\n",
            "Requirement already satisfied: aiosignal>=1.1.2 in /usr/local/lib/python3.10/dist-packages (from aiohttp<4.0.0,>=3.8.6->llama-index-core<0.11.0,>=0.10.1->llama-index-embeddings-openai) (1.3.1)\n",
            "Requirement already satisfied: attrs>=17.3.0 in /usr/local/lib/python3.10/dist-packages (from aiohttp<4.0.0,>=3.8.6->llama-index-core<0.11.0,>=0.10.1->llama-index-embeddings-openai) (23.2.0)\n",
            "Requirement already satisfied: frozenlist>=1.1.1 in /usr/local/lib/python3.10/dist-packages (from aiohttp<4.0.0,>=3.8.6->llama-index-core<0.11.0,>=0.10.1->llama-index-embeddings-openai) (1.4.1)\n",
            "Requirement already satisfied: multidict<7.0,>=4.5 in /usr/local/lib/python3.10/dist-packages (from aiohttp<4.0.0,>=3.8.6->llama-index-core<0.11.0,>=0.10.1->llama-index-embeddings-openai) (6.0.5)\n",
            "Requirement already satisfied: yarl<2.0,>=1.0 in /usr/local/lib/python3.10/dist-packages (from aiohttp<4.0.0,>=3.8.6->llama-index-core<0.11.0,>=0.10.1->llama-index-embeddings-openai) (1.9.4)\n",
            "Requirement already satisfied: async-timeout<5.0,>=4.0 in /usr/local/lib/python3.10/dist-packages (from aiohttp<4.0.0,>=3.8.6->llama-index-core<0.11.0,>=0.10.1->llama-index-embeddings-openai) (4.0.3)\n",
            "Requirement already satisfied: pydantic>=1.10 in /usr/local/lib/python3.10/dist-packages (from llamaindex-py-client<0.2.0,>=0.1.18->llama-index-core<0.11.0,>=0.10.1->llama-index-embeddings-openai) (2.7.1)\n",
            "Requirement already satisfied: anyio in /usr/local/lib/python3.10/dist-packages (from httpx->llama-index-core<0.11.0,>=0.10.1->llama-index-embeddings-openai) (3.7.1)\n",
            "Requirement already satisfied: certifi in /usr/local/lib/python3.10/dist-packages (from httpx->llama-index-core<0.11.0,>=0.10.1->llama-index-embeddings-openai) (2024.2.2)\n",
            "Requirement already satisfied: httpcore==1.* in /usr/local/lib/python3.10/dist-packages (from httpx->llama-index-core<0.11.0,>=0.10.1->llama-index-embeddings-openai) (1.0.5)\n",
            "Requirement already satisfied: idna in /usr/local/lib/python3.10/dist-packages (from httpx->llama-index-core<0.11.0,>=0.10.1->llama-index-embeddings-openai) (3.7)\n",
            "Requirement already satisfied: sniffio in /usr/local/lib/python3.10/dist-packages (from httpx->llama-index-core<0.11.0,>=0.10.1->llama-index-embeddings-openai) (1.3.1)\n",
            "Requirement already satisfied: h11<0.15,>=0.13 in /usr/local/lib/python3.10/dist-packages (from httpcore==1.*->httpx->llama-index-core<0.11.0,>=0.10.1->llama-index-embeddings-openai) (0.14.0)\n",
            "Requirement already satisfied: click in /usr/local/lib/python3.10/dist-packages (from nltk<4.0.0,>=3.8.1->llama-index-core<0.11.0,>=0.10.1->llama-index-embeddings-openai) (8.1.7)\n",
            "Requirement already satisfied: joblib in /usr/local/lib/python3.10/dist-packages (from nltk<4.0.0,>=3.8.1->llama-index-core<0.11.0,>=0.10.1->llama-index-embeddings-openai) (1.4.2)\n",
            "Requirement already satisfied: regex>=2021.8.3 in /usr/local/lib/python3.10/dist-packages (from nltk<4.0.0,>=3.8.1->llama-index-core<0.11.0,>=0.10.1->llama-index-embeddings-openai) (2023.12.25)\n",
            "Requirement already satisfied: distro<2,>=1.7.0 in /usr/lib/python3/dist-packages (from openai>=1.1.0->llama-index-core<0.11.0,>=0.10.1->llama-index-embeddings-openai) (1.7.0)\n",
            "Requirement already satisfied: charset-normalizer<4,>=2 in /usr/local/lib/python3.10/dist-packages (from requests>=2.31.0->llama-index-core<0.11.0,>=0.10.1->llama-index-embeddings-openai) (3.3.2)\n",
            "Requirement already satisfied: urllib3<3,>=1.21.1 in /usr/local/lib/python3.10/dist-packages (from requests>=2.31.0->llama-index-core<0.11.0,>=0.10.1->llama-index-embeddings-openai) (2.0.7)\n",
            "Requirement already satisfied: greenlet!=0.4.17 in /usr/local/lib/python3.10/dist-packages (from SQLAlchemy[asyncio]>=1.4.49->llama-index-core<0.11.0,>=0.10.1->llama-index-embeddings-openai) (3.0.3)\n",
            "Requirement already satisfied: mypy-extensions>=0.3.0 in /usr/local/lib/python3.10/dist-packages (from typing-inspect>=0.8.0->llama-index-core<0.11.0,>=0.10.1->llama-index-embeddings-openai) (1.0.0)\n",
            "Requirement already satisfied: marshmallow<4.0.0,>=3.18.0 in /usr/local/lib/python3.10/dist-packages (from dataclasses-json->llama-index-core<0.11.0,>=0.10.1->llama-index-embeddings-openai) (3.21.2)\n",
            "Requirement already satisfied: python-dateutil>=2.8.2 in /usr/local/lib/python3.10/dist-packages (from pandas->llama-index-core<0.11.0,>=0.10.1->llama-index-embeddings-openai) (2.8.2)\n",
            "Requirement already satisfied: pytz>=2020.1 in /usr/local/lib/python3.10/dist-packages (from pandas->llama-index-core<0.11.0,>=0.10.1->llama-index-embeddings-openai) (2023.4)\n",
            "Requirement already satisfied: tzdata>=2022.1 in /usr/local/lib/python3.10/dist-packages (from pandas->llama-index-core<0.11.0,>=0.10.1->llama-index-embeddings-openai) (2024.1)\n",
            "Requirement already satisfied: exceptiongroup in /usr/local/lib/python3.10/dist-packages (from anyio->httpx->llama-index-core<0.11.0,>=0.10.1->llama-index-embeddings-openai) (1.2.1)\n",
            "Requirement already satisfied: packaging>=17.0 in /usr/local/lib/python3.10/dist-packages (from marshmallow<4.0.0,>=3.18.0->dataclasses-json->llama-index-core<0.11.0,>=0.10.1->llama-index-embeddings-openai) (24.0)\n",
            "Requirement already satisfied: annotated-types>=0.4.0 in /usr/local/lib/python3.10/dist-packages (from pydantic>=1.10->llamaindex-py-client<0.2.0,>=0.1.18->llama-index-core<0.11.0,>=0.10.1->llama-index-embeddings-openai) (0.7.0)\n",
            "Requirement already satisfied: pydantic-core==2.18.2 in /usr/local/lib/python3.10/dist-packages (from pydantic>=1.10->llamaindex-py-client<0.2.0,>=0.1.18->llama-index-core<0.11.0,>=0.10.1->llama-index-embeddings-openai) (2.18.2)\n",
            "Requirement already satisfied: six>=1.5 in /usr/local/lib/python3.10/dist-packages (from python-dateutil>=2.8.2->pandas->llama-index-core<0.11.0,>=0.10.1->llama-index-embeddings-openai) (1.16.0)\n",
            "Installing collected packages: llama-index-embeddings-openai\n",
            "Successfully installed llama-index-embeddings-openai-0.1.10\n",
            "Requirement already satisfied: llama-index-llms-openai in /usr/local/lib/python3.10/dist-packages (0.1.21)\n",
            "Requirement already satisfied: llama-index-core<0.11.0,>=0.10.24 in /usr/local/lib/python3.10/dist-packages (from llama-index-llms-openai) (0.10.39)\n",
            "Requirement already satisfied: PyYAML>=6.0.1 in /usr/local/lib/python3.10/dist-packages (from llama-index-core<0.11.0,>=0.10.24->llama-index-llms-openai) (6.0.1)\n",
            "Requirement already satisfied: SQLAlchemy[asyncio]>=1.4.49 in /usr/local/lib/python3.10/dist-packages (from llama-index-core<0.11.0,>=0.10.24->llama-index-llms-openai) (2.0.30)\n",
            "Requirement already satisfied: aiohttp<4.0.0,>=3.8.6 in /usr/local/lib/python3.10/dist-packages (from llama-index-core<0.11.0,>=0.10.24->llama-index-llms-openai) (3.9.5)\n",
            "Requirement already satisfied: dataclasses-json in /usr/local/lib/python3.10/dist-packages (from llama-index-core<0.11.0,>=0.10.24->llama-index-llms-openai) (0.6.6)\n",
            "Requirement already satisfied: deprecated>=1.2.9.3 in /usr/local/lib/python3.10/dist-packages (from llama-index-core<0.11.0,>=0.10.24->llama-index-llms-openai) (1.2.14)\n",
            "Requirement already satisfied: dirtyjson<2.0.0,>=1.0.8 in /usr/local/lib/python3.10/dist-packages (from llama-index-core<0.11.0,>=0.10.24->llama-index-llms-openai) (1.0.8)\n",
            "Requirement already satisfied: fsspec>=2023.5.0 in /usr/local/lib/python3.10/dist-packages (from llama-index-core<0.11.0,>=0.10.24->llama-index-llms-openai) (2023.6.0)\n",
            "Requirement already satisfied: httpx in /usr/local/lib/python3.10/dist-packages (from llama-index-core<0.11.0,>=0.10.24->llama-index-llms-openai) (0.27.0)\n",
            "Requirement already satisfied: llamaindex-py-client<0.2.0,>=0.1.18 in /usr/local/lib/python3.10/dist-packages (from llama-index-core<0.11.0,>=0.10.24->llama-index-llms-openai) (0.1.19)\n",
            "Requirement already satisfied: nest-asyncio<2.0.0,>=1.5.8 in /usr/local/lib/python3.10/dist-packages (from llama-index-core<0.11.0,>=0.10.24->llama-index-llms-openai) (1.6.0)\n",
            "Requirement already satisfied: networkx>=3.0 in /usr/local/lib/python3.10/dist-packages (from llama-index-core<0.11.0,>=0.10.24->llama-index-llms-openai) (3.3)\n",
            "Requirement already satisfied: nltk<4.0.0,>=3.8.1 in /usr/local/lib/python3.10/dist-packages (from llama-index-core<0.11.0,>=0.10.24->llama-index-llms-openai) (3.8.1)\n",
            "Requirement already satisfied: numpy in /usr/local/lib/python3.10/dist-packages (from llama-index-core<0.11.0,>=0.10.24->llama-index-llms-openai) (1.25.2)\n",
            "Requirement already satisfied: openai>=1.1.0 in /usr/local/lib/python3.10/dist-packages (from llama-index-core<0.11.0,>=0.10.24->llama-index-llms-openai) (1.30.3)\n",
            "Requirement already satisfied: pandas in /usr/local/lib/python3.10/dist-packages (from llama-index-core<0.11.0,>=0.10.24->llama-index-llms-openai) (2.0.3)\n",
            "Requirement already satisfied: pillow>=9.0.0 in /usr/local/lib/python3.10/dist-packages (from llama-index-core<0.11.0,>=0.10.24->llama-index-llms-openai) (9.4.0)\n",
            "Requirement already satisfied: requests>=2.31.0 in /usr/local/lib/python3.10/dist-packages (from llama-index-core<0.11.0,>=0.10.24->llama-index-llms-openai) (2.31.0)\n",
            "Requirement already satisfied: tenacity<9.0.0,>=8.2.0 in /usr/local/lib/python3.10/dist-packages (from llama-index-core<0.11.0,>=0.10.24->llama-index-llms-openai) (8.3.0)\n",
            "Requirement already satisfied: tiktoken>=0.3.3 in /usr/local/lib/python3.10/dist-packages (from llama-index-core<0.11.0,>=0.10.24->llama-index-llms-openai) (0.7.0)\n",
            "Requirement already satisfied: tqdm<5.0.0,>=4.66.1 in /usr/local/lib/python3.10/dist-packages (from llama-index-core<0.11.0,>=0.10.24->llama-index-llms-openai) (4.66.4)\n",
            "Requirement already satisfied: typing-extensions>=4.5.0 in /usr/local/lib/python3.10/dist-packages (from llama-index-core<0.11.0,>=0.10.24->llama-index-llms-openai) (4.11.0)\n",
            "Requirement already satisfied: typing-inspect>=0.8.0 in /usr/local/lib/python3.10/dist-packages (from llama-index-core<0.11.0,>=0.10.24->llama-index-llms-openai) (0.9.0)\n",
            "Requirement already satisfied: wrapt in /usr/local/lib/python3.10/dist-packages (from llama-index-core<0.11.0,>=0.10.24->llama-index-llms-openai) (1.14.1)\n",
            "Requirement already satisfied: aiosignal>=1.1.2 in /usr/local/lib/python3.10/dist-packages (from aiohttp<4.0.0,>=3.8.6->llama-index-core<0.11.0,>=0.10.24->llama-index-llms-openai) (1.3.1)\n",
            "Requirement already satisfied: attrs>=17.3.0 in /usr/local/lib/python3.10/dist-packages (from aiohttp<4.0.0,>=3.8.6->llama-index-core<0.11.0,>=0.10.24->llama-index-llms-openai) (23.2.0)\n",
            "Requirement already satisfied: frozenlist>=1.1.1 in /usr/local/lib/python3.10/dist-packages (from aiohttp<4.0.0,>=3.8.6->llama-index-core<0.11.0,>=0.10.24->llama-index-llms-openai) (1.4.1)\n",
            "Requirement already satisfied: multidict<7.0,>=4.5 in /usr/local/lib/python3.10/dist-packages (from aiohttp<4.0.0,>=3.8.6->llama-index-core<0.11.0,>=0.10.24->llama-index-llms-openai) (6.0.5)\n",
            "Requirement already satisfied: yarl<2.0,>=1.0 in /usr/local/lib/python3.10/dist-packages (from aiohttp<4.0.0,>=3.8.6->llama-index-core<0.11.0,>=0.10.24->llama-index-llms-openai) (1.9.4)\n",
            "Requirement already satisfied: async-timeout<5.0,>=4.0 in /usr/local/lib/python3.10/dist-packages (from aiohttp<4.0.0,>=3.8.6->llama-index-core<0.11.0,>=0.10.24->llama-index-llms-openai) (4.0.3)\n",
            "Requirement already satisfied: pydantic>=1.10 in /usr/local/lib/python3.10/dist-packages (from llamaindex-py-client<0.2.0,>=0.1.18->llama-index-core<0.11.0,>=0.10.24->llama-index-llms-openai) (2.7.1)\n",
            "Requirement already satisfied: anyio in /usr/local/lib/python3.10/dist-packages (from httpx->llama-index-core<0.11.0,>=0.10.24->llama-index-llms-openai) (3.7.1)\n",
            "Requirement already satisfied: certifi in /usr/local/lib/python3.10/dist-packages (from httpx->llama-index-core<0.11.0,>=0.10.24->llama-index-llms-openai) (2024.2.2)\n",
            "Requirement already satisfied: httpcore==1.* in /usr/local/lib/python3.10/dist-packages (from httpx->llama-index-core<0.11.0,>=0.10.24->llama-index-llms-openai) (1.0.5)\n",
            "Requirement already satisfied: idna in /usr/local/lib/python3.10/dist-packages (from httpx->llama-index-core<0.11.0,>=0.10.24->llama-index-llms-openai) (3.7)\n",
            "Requirement already satisfied: sniffio in /usr/local/lib/python3.10/dist-packages (from httpx->llama-index-core<0.11.0,>=0.10.24->llama-index-llms-openai) (1.3.1)\n",
            "Requirement already satisfied: h11<0.15,>=0.13 in /usr/local/lib/python3.10/dist-packages (from httpcore==1.*->httpx->llama-index-core<0.11.0,>=0.10.24->llama-index-llms-openai) (0.14.0)\n",
            "Requirement already satisfied: click in /usr/local/lib/python3.10/dist-packages (from nltk<4.0.0,>=3.8.1->llama-index-core<0.11.0,>=0.10.24->llama-index-llms-openai) (8.1.7)\n",
            "Requirement already satisfied: joblib in /usr/local/lib/python3.10/dist-packages (from nltk<4.0.0,>=3.8.1->llama-index-core<0.11.0,>=0.10.24->llama-index-llms-openai) (1.4.2)\n",
            "Requirement already satisfied: regex>=2021.8.3 in /usr/local/lib/python3.10/dist-packages (from nltk<4.0.0,>=3.8.1->llama-index-core<0.11.0,>=0.10.24->llama-index-llms-openai) (2023.12.25)\n",
            "Requirement already satisfied: distro<2,>=1.7.0 in /usr/lib/python3/dist-packages (from openai>=1.1.0->llama-index-core<0.11.0,>=0.10.24->llama-index-llms-openai) (1.7.0)\n",
            "Requirement already satisfied: charset-normalizer<4,>=2 in /usr/local/lib/python3.10/dist-packages (from requests>=2.31.0->llama-index-core<0.11.0,>=0.10.24->llama-index-llms-openai) (3.3.2)\n",
            "Requirement already satisfied: urllib3<3,>=1.21.1 in /usr/local/lib/python3.10/dist-packages (from requests>=2.31.0->llama-index-core<0.11.0,>=0.10.24->llama-index-llms-openai) (2.0.7)\n",
            "Requirement already satisfied: greenlet!=0.4.17 in /usr/local/lib/python3.10/dist-packages (from SQLAlchemy[asyncio]>=1.4.49->llama-index-core<0.11.0,>=0.10.24->llama-index-llms-openai) (3.0.3)\n",
            "Requirement already satisfied: mypy-extensions>=0.3.0 in /usr/local/lib/python3.10/dist-packages (from typing-inspect>=0.8.0->llama-index-core<0.11.0,>=0.10.24->llama-index-llms-openai) (1.0.0)\n",
            "Requirement already satisfied: marshmallow<4.0.0,>=3.18.0 in /usr/local/lib/python3.10/dist-packages (from dataclasses-json->llama-index-core<0.11.0,>=0.10.24->llama-index-llms-openai) (3.21.2)\n",
            "Requirement already satisfied: python-dateutil>=2.8.2 in /usr/local/lib/python3.10/dist-packages (from pandas->llama-index-core<0.11.0,>=0.10.24->llama-index-llms-openai) (2.8.2)\n",
            "Requirement already satisfied: pytz>=2020.1 in /usr/local/lib/python3.10/dist-packages (from pandas->llama-index-core<0.11.0,>=0.10.24->llama-index-llms-openai) (2023.4)\n",
            "Requirement already satisfied: tzdata>=2022.1 in /usr/local/lib/python3.10/dist-packages (from pandas->llama-index-core<0.11.0,>=0.10.24->llama-index-llms-openai) (2024.1)\n",
            "Requirement already satisfied: exceptiongroup in /usr/local/lib/python3.10/dist-packages (from anyio->httpx->llama-index-core<0.11.0,>=0.10.24->llama-index-llms-openai) (1.2.1)\n",
            "Requirement already satisfied: packaging>=17.0 in /usr/local/lib/python3.10/dist-packages (from marshmallow<4.0.0,>=3.18.0->dataclasses-json->llama-index-core<0.11.0,>=0.10.24->llama-index-llms-openai) (24.0)\n",
            "Requirement already satisfied: annotated-types>=0.4.0 in /usr/local/lib/python3.10/dist-packages (from pydantic>=1.10->llamaindex-py-client<0.2.0,>=0.1.18->llama-index-core<0.11.0,>=0.10.24->llama-index-llms-openai) (0.7.0)\n",
            "Requirement already satisfied: pydantic-core==2.18.2 in /usr/local/lib/python3.10/dist-packages (from pydantic>=1.10->llamaindex-py-client<0.2.0,>=0.1.18->llama-index-core<0.11.0,>=0.10.24->llama-index-llms-openai) (2.18.2)\n",
            "Requirement already satisfied: six>=1.5 in /usr/local/lib/python3.10/dist-packages (from python-dateutil>=2.8.2->pandas->llama-index-core<0.11.0,>=0.10.24->llama-index-llms-openai) (1.16.0)\n"
          ]
        }
      ],
      "source": [
        "%pip install llama-index-agent-openai\n",
        "%pip install llama-index-embeddings-openai\n",
        "%pip install llama-index-llms-openai"
      ]
    },
    {
      "cell_type": "code",
      "source": [
        "!pip install llama-index"
      ],
      "metadata": {
        "colab": {
          "base_uri": "https://localhost:8080/"
        },
        "collapsed": true,
        "id": "VjQ2AspSb_dr",
        "outputId": "389a9dfc-d0be-4c22-aa1b-b30e5b317e67"
      },
      "execution_count": null,
      "outputs": [
        {
          "output_type": "stream",
          "name": "stdout",
          "text": [
            "Collecting llama-index\n",
            "  Downloading llama_index-0.10.38-py3-none-any.whl (6.8 kB)\n",
            "Requirement already satisfied: llama-index-agent-openai<0.3.0,>=0.1.4 in /usr/local/lib/python3.10/dist-packages (from llama-index) (0.2.5)\n",
            "Collecting llama-index-cli<0.2.0,>=0.1.2 (from llama-index)\n",
            "  Downloading llama_index_cli-0.1.12-py3-none-any.whl (26 kB)\n",
            "Requirement already satisfied: llama-index-core<0.11.0,>=0.10.38 in /usr/local/lib/python3.10/dist-packages (from llama-index) (0.10.39)\n",
            "Requirement already satisfied: llama-index-embeddings-openai<0.2.0,>=0.1.5 in /usr/local/lib/python3.10/dist-packages (from llama-index) (0.1.10)\n",
            "Collecting llama-index-indices-managed-llama-cloud<0.2.0,>=0.1.2 (from llama-index)\n",
            "  Downloading llama_index_indices_managed_llama_cloud-0.1.6-py3-none-any.whl (6.7 kB)\n",
            "Collecting llama-index-legacy<0.10.0,>=0.9.48 (from llama-index)\n",
            "  Downloading llama_index_legacy-0.9.48-py3-none-any.whl (2.0 MB)\n",
            "\u001b[2K     \u001b[90m━━━━━━━━━━━━━━━━━━━━━━━━━━━━━━━━━━━━━━━━\u001b[0m \u001b[32m2.0/2.0 MB\u001b[0m \u001b[31m10.5 MB/s\u001b[0m eta \u001b[36m0:00:00\u001b[0m\n",
            "\u001b[?25hRequirement already satisfied: llama-index-llms-openai<0.2.0,>=0.1.13 in /usr/local/lib/python3.10/dist-packages (from llama-index) (0.1.21)\n",
            "Collecting llama-index-multi-modal-llms-openai<0.2.0,>=0.1.3 (from llama-index)\n",
            "  Downloading llama_index_multi_modal_llms_openai-0.1.6-py3-none-any.whl (5.8 kB)\n",
            "Collecting llama-index-program-openai<0.2.0,>=0.1.3 (from llama-index)\n",
            "  Downloading llama_index_program_openai-0.1.6-py3-none-any.whl (5.2 kB)\n",
            "Collecting llama-index-question-gen-openai<0.2.0,>=0.1.2 (from llama-index)\n",
            "  Downloading llama_index_question_gen_openai-0.1.3-py3-none-any.whl (2.9 kB)\n",
            "Collecting llama-index-readers-file<0.2.0,>=0.1.4 (from llama-index)\n",
            "  Downloading llama_index_readers_file-0.1.23-py3-none-any.whl (36 kB)\n",
            "Collecting llama-index-readers-llama-parse<0.2.0,>=0.1.2 (from llama-index)\n",
            "  Downloading llama_index_readers_llama_parse-0.1.4-py3-none-any.whl (2.5 kB)\n",
            "Requirement already satisfied: openai>=1.14.0 in /usr/local/lib/python3.10/dist-packages (from llama-index-agent-openai<0.3.0,>=0.1.4->llama-index) (1.30.3)\n",
            "Requirement already satisfied: PyYAML>=6.0.1 in /usr/local/lib/python3.10/dist-packages (from llama-index-core<0.11.0,>=0.10.38->llama-index) (6.0.1)\n",
            "Requirement already satisfied: SQLAlchemy[asyncio]>=1.4.49 in /usr/local/lib/python3.10/dist-packages (from llama-index-core<0.11.0,>=0.10.38->llama-index) (2.0.30)\n",
            "Requirement already satisfied: aiohttp<4.0.0,>=3.8.6 in /usr/local/lib/python3.10/dist-packages (from llama-index-core<0.11.0,>=0.10.38->llama-index) (3.9.5)\n",
            "Requirement already satisfied: dataclasses-json in /usr/local/lib/python3.10/dist-packages (from llama-index-core<0.11.0,>=0.10.38->llama-index) (0.6.6)\n",
            "Requirement already satisfied: deprecated>=1.2.9.3 in /usr/local/lib/python3.10/dist-packages (from llama-index-core<0.11.0,>=0.10.38->llama-index) (1.2.14)\n",
            "Requirement already satisfied: dirtyjson<2.0.0,>=1.0.8 in /usr/local/lib/python3.10/dist-packages (from llama-index-core<0.11.0,>=0.10.38->llama-index) (1.0.8)\n",
            "Requirement already satisfied: fsspec>=2023.5.0 in /usr/local/lib/python3.10/dist-packages (from llama-index-core<0.11.0,>=0.10.38->llama-index) (2023.6.0)\n",
            "Requirement already satisfied: httpx in /usr/local/lib/python3.10/dist-packages (from llama-index-core<0.11.0,>=0.10.38->llama-index) (0.27.0)\n",
            "Requirement already satisfied: llamaindex-py-client<0.2.0,>=0.1.18 in /usr/local/lib/python3.10/dist-packages (from llama-index-core<0.11.0,>=0.10.38->llama-index) (0.1.19)\n",
            "Requirement already satisfied: nest-asyncio<2.0.0,>=1.5.8 in /usr/local/lib/python3.10/dist-packages (from llama-index-core<0.11.0,>=0.10.38->llama-index) (1.6.0)\n",
            "Requirement already satisfied: networkx>=3.0 in /usr/local/lib/python3.10/dist-packages (from llama-index-core<0.11.0,>=0.10.38->llama-index) (3.3)\n",
            "Requirement already satisfied: nltk<4.0.0,>=3.8.1 in /usr/local/lib/python3.10/dist-packages (from llama-index-core<0.11.0,>=0.10.38->llama-index) (3.8.1)\n",
            "Requirement already satisfied: numpy in /usr/local/lib/python3.10/dist-packages (from llama-index-core<0.11.0,>=0.10.38->llama-index) (1.25.2)\n",
            "Requirement already satisfied: pandas in /usr/local/lib/python3.10/dist-packages (from llama-index-core<0.11.0,>=0.10.38->llama-index) (2.0.3)\n",
            "Requirement already satisfied: pillow>=9.0.0 in /usr/local/lib/python3.10/dist-packages (from llama-index-core<0.11.0,>=0.10.38->llama-index) (9.4.0)\n",
            "Requirement already satisfied: requests>=2.31.0 in /usr/local/lib/python3.10/dist-packages (from llama-index-core<0.11.0,>=0.10.38->llama-index) (2.31.0)\n",
            "Requirement already satisfied: tenacity<9.0.0,>=8.2.0 in /usr/local/lib/python3.10/dist-packages (from llama-index-core<0.11.0,>=0.10.38->llama-index) (8.3.0)\n",
            "Requirement already satisfied: tiktoken>=0.3.3 in /usr/local/lib/python3.10/dist-packages (from llama-index-core<0.11.0,>=0.10.38->llama-index) (0.7.0)\n",
            "Requirement already satisfied: tqdm<5.0.0,>=4.66.1 in /usr/local/lib/python3.10/dist-packages (from llama-index-core<0.11.0,>=0.10.38->llama-index) (4.66.4)\n",
            "Requirement already satisfied: typing-extensions>=4.5.0 in /usr/local/lib/python3.10/dist-packages (from llama-index-core<0.11.0,>=0.10.38->llama-index) (4.11.0)\n",
            "Requirement already satisfied: typing-inspect>=0.8.0 in /usr/local/lib/python3.10/dist-packages (from llama-index-core<0.11.0,>=0.10.38->llama-index) (0.9.0)\n",
            "Requirement already satisfied: wrapt in /usr/local/lib/python3.10/dist-packages (from llama-index-core<0.11.0,>=0.10.38->llama-index) (1.14.1)\n",
            "Requirement already satisfied: beautifulsoup4<5.0.0,>=4.12.3 in /usr/local/lib/python3.10/dist-packages (from llama-index-readers-file<0.2.0,>=0.1.4->llama-index) (4.12.3)\n",
            "Collecting pypdf<5.0.0,>=4.0.1 (from llama-index-readers-file<0.2.0,>=0.1.4->llama-index)\n",
            "  Downloading pypdf-4.2.0-py3-none-any.whl (290 kB)\n",
            "\u001b[2K     \u001b[90m━━━━━━━━━━━━━━━━━━━━━━━━━━━━━━━━━━━━━━━━\u001b[0m \u001b[32m290.4/290.4 kB\u001b[0m \u001b[31m28.4 MB/s\u001b[0m eta \u001b[36m0:00:00\u001b[0m\n",
            "\u001b[?25hCollecting striprtf<0.0.27,>=0.0.26 (from llama-index-readers-file<0.2.0,>=0.1.4->llama-index)\n",
            "  Downloading striprtf-0.0.26-py3-none-any.whl (6.9 kB)\n",
            "Collecting llama-parse<0.5.0,>=0.4.0 (from llama-index-readers-llama-parse<0.2.0,>=0.1.2->llama-index)\n",
            "  Downloading llama_parse-0.4.3-py3-none-any.whl (7.7 kB)\n",
            "Requirement already satisfied: aiosignal>=1.1.2 in /usr/local/lib/python3.10/dist-packages (from aiohttp<4.0.0,>=3.8.6->llama-index-core<0.11.0,>=0.10.38->llama-index) (1.3.1)\n",
            "Requirement already satisfied: attrs>=17.3.0 in /usr/local/lib/python3.10/dist-packages (from aiohttp<4.0.0,>=3.8.6->llama-index-core<0.11.0,>=0.10.38->llama-index) (23.2.0)\n",
            "Requirement already satisfied: frozenlist>=1.1.1 in /usr/local/lib/python3.10/dist-packages (from aiohttp<4.0.0,>=3.8.6->llama-index-core<0.11.0,>=0.10.38->llama-index) (1.4.1)\n",
            "Requirement already satisfied: multidict<7.0,>=4.5 in /usr/local/lib/python3.10/dist-packages (from aiohttp<4.0.0,>=3.8.6->llama-index-core<0.11.0,>=0.10.38->llama-index) (6.0.5)\n",
            "Requirement already satisfied: yarl<2.0,>=1.0 in /usr/local/lib/python3.10/dist-packages (from aiohttp<4.0.0,>=3.8.6->llama-index-core<0.11.0,>=0.10.38->llama-index) (1.9.4)\n",
            "Requirement already satisfied: async-timeout<5.0,>=4.0 in /usr/local/lib/python3.10/dist-packages (from aiohttp<4.0.0,>=3.8.6->llama-index-core<0.11.0,>=0.10.38->llama-index) (4.0.3)\n",
            "Requirement already satisfied: soupsieve>1.2 in /usr/local/lib/python3.10/dist-packages (from beautifulsoup4<5.0.0,>=4.12.3->llama-index-readers-file<0.2.0,>=0.1.4->llama-index) (2.5)\n",
            "Requirement already satisfied: pydantic>=1.10 in /usr/local/lib/python3.10/dist-packages (from llamaindex-py-client<0.2.0,>=0.1.18->llama-index-core<0.11.0,>=0.10.38->llama-index) (2.7.1)\n",
            "Requirement already satisfied: anyio in /usr/local/lib/python3.10/dist-packages (from httpx->llama-index-core<0.11.0,>=0.10.38->llama-index) (3.7.1)\n",
            "Requirement already satisfied: certifi in /usr/local/lib/python3.10/dist-packages (from httpx->llama-index-core<0.11.0,>=0.10.38->llama-index) (2024.2.2)\n",
            "Requirement already satisfied: httpcore==1.* in /usr/local/lib/python3.10/dist-packages (from httpx->llama-index-core<0.11.0,>=0.10.38->llama-index) (1.0.5)\n",
            "Requirement already satisfied: idna in /usr/local/lib/python3.10/dist-packages (from httpx->llama-index-core<0.11.0,>=0.10.38->llama-index) (3.7)\n",
            "Requirement already satisfied: sniffio in /usr/local/lib/python3.10/dist-packages (from httpx->llama-index-core<0.11.0,>=0.10.38->llama-index) (1.3.1)\n",
            "Requirement already satisfied: h11<0.15,>=0.13 in /usr/local/lib/python3.10/dist-packages (from httpcore==1.*->httpx->llama-index-core<0.11.0,>=0.10.38->llama-index) (0.14.0)\n",
            "Requirement already satisfied: click in /usr/local/lib/python3.10/dist-packages (from nltk<4.0.0,>=3.8.1->llama-index-core<0.11.0,>=0.10.38->llama-index) (8.1.7)\n",
            "Requirement already satisfied: joblib in /usr/local/lib/python3.10/dist-packages (from nltk<4.0.0,>=3.8.1->llama-index-core<0.11.0,>=0.10.38->llama-index) (1.4.2)\n",
            "Requirement already satisfied: regex>=2021.8.3 in /usr/local/lib/python3.10/dist-packages (from nltk<4.0.0,>=3.8.1->llama-index-core<0.11.0,>=0.10.38->llama-index) (2023.12.25)\n",
            "Requirement already satisfied: distro<2,>=1.7.0 in /usr/lib/python3/dist-packages (from openai>=1.14.0->llama-index-agent-openai<0.3.0,>=0.1.4->llama-index) (1.7.0)\n",
            "Requirement already satisfied: charset-normalizer<4,>=2 in /usr/local/lib/python3.10/dist-packages (from requests>=2.31.0->llama-index-core<0.11.0,>=0.10.38->llama-index) (3.3.2)\n",
            "Requirement already satisfied: urllib3<3,>=1.21.1 in /usr/local/lib/python3.10/dist-packages (from requests>=2.31.0->llama-index-core<0.11.0,>=0.10.38->llama-index) (2.0.7)\n",
            "Requirement already satisfied: greenlet!=0.4.17 in /usr/local/lib/python3.10/dist-packages (from SQLAlchemy[asyncio]>=1.4.49->llama-index-core<0.11.0,>=0.10.38->llama-index) (3.0.3)\n",
            "Requirement already satisfied: mypy-extensions>=0.3.0 in /usr/local/lib/python3.10/dist-packages (from typing-inspect>=0.8.0->llama-index-core<0.11.0,>=0.10.38->llama-index) (1.0.0)\n",
            "Requirement already satisfied: marshmallow<4.0.0,>=3.18.0 in /usr/local/lib/python3.10/dist-packages (from dataclasses-json->llama-index-core<0.11.0,>=0.10.38->llama-index) (3.21.2)\n",
            "Requirement already satisfied: python-dateutil>=2.8.2 in /usr/local/lib/python3.10/dist-packages (from pandas->llama-index-core<0.11.0,>=0.10.38->llama-index) (2.8.2)\n",
            "Requirement already satisfied: pytz>=2020.1 in /usr/local/lib/python3.10/dist-packages (from pandas->llama-index-core<0.11.0,>=0.10.38->llama-index) (2023.4)\n",
            "Requirement already satisfied: tzdata>=2022.1 in /usr/local/lib/python3.10/dist-packages (from pandas->llama-index-core<0.11.0,>=0.10.38->llama-index) (2024.1)\n",
            "Requirement already satisfied: exceptiongroup in /usr/local/lib/python3.10/dist-packages (from anyio->httpx->llama-index-core<0.11.0,>=0.10.38->llama-index) (1.2.1)\n",
            "Requirement already satisfied: packaging>=17.0 in /usr/local/lib/python3.10/dist-packages (from marshmallow<4.0.0,>=3.18.0->dataclasses-json->llama-index-core<0.11.0,>=0.10.38->llama-index) (24.0)\n",
            "Requirement already satisfied: annotated-types>=0.4.0 in /usr/local/lib/python3.10/dist-packages (from pydantic>=1.10->llamaindex-py-client<0.2.0,>=0.1.18->llama-index-core<0.11.0,>=0.10.38->llama-index) (0.7.0)\n",
            "Requirement already satisfied: pydantic-core==2.18.2 in /usr/local/lib/python3.10/dist-packages (from pydantic>=1.10->llamaindex-py-client<0.2.0,>=0.1.18->llama-index-core<0.11.0,>=0.10.38->llama-index) (2.18.2)\n",
            "Requirement already satisfied: six>=1.5 in /usr/local/lib/python3.10/dist-packages (from python-dateutil>=2.8.2->pandas->llama-index-core<0.11.0,>=0.10.38->llama-index) (1.16.0)\n",
            "Installing collected packages: striprtf, pypdf, llama-index-legacy, llama-parse, llama-index-readers-file, llama-index-indices-managed-llama-cloud, llama-index-readers-llama-parse, llama-index-multi-modal-llms-openai, llama-index-cli, llama-index-program-openai, llama-index-question-gen-openai, llama-index\n",
            "Successfully installed llama-index-0.10.38 llama-index-cli-0.1.12 llama-index-indices-managed-llama-cloud-0.1.6 llama-index-legacy-0.9.48 llama-index-multi-modal-llms-openai-0.1.6 llama-index-program-openai-0.1.6 llama-index-question-gen-openai-0.1.3 llama-index-readers-file-0.1.23 llama-index-readers-llama-parse-0.1.4 llama-parse-0.4.3 pypdf-4.2.0 striprtf-0.0.26\n"
          ]
        }
      ]
    },
    {
      "cell_type": "code",
      "source": [
        "!pip install streamlit openai llama-index nltk"
      ],
      "metadata": {
        "colab": {
          "base_uri": "https://localhost:8080/"
        },
        "collapsed": true,
        "id": "GaP0MpwGy2mu",
        "outputId": "92f836d2-4d12-4403-f493-ec0b6a92cc53"
      },
      "execution_count": null,
      "outputs": [
        {
          "output_type": "stream",
          "name": "stdout",
          "text": [
            "Collecting streamlit\n",
            "  Downloading streamlit-1.35.0-py2.py3-none-any.whl (8.6 MB)\n",
            "\u001b[2K     \u001b[90m━━━━━━━━━━━━━━━━━━━━━━━━━━━━━━━━━━━━━━━━\u001b[0m \u001b[32m8.6/8.6 MB\u001b[0m \u001b[31m21.8 MB/s\u001b[0m eta \u001b[36m0:00:00\u001b[0m\n",
            "\u001b[?25hRequirement already satisfied: openai in /usr/local/lib/python3.10/dist-packages (1.30.3)\n",
            "Requirement already satisfied: llama-index in /usr/local/lib/python3.10/dist-packages (0.10.38)\n",
            "Requirement already satisfied: nltk in /usr/local/lib/python3.10/dist-packages (3.8.1)\n",
            "Requirement already satisfied: altair<6,>=4.0 in /usr/local/lib/python3.10/dist-packages (from streamlit) (4.2.2)\n",
            "Requirement already satisfied: blinker<2,>=1.0.0 in /usr/lib/python3/dist-packages (from streamlit) (1.4)\n",
            "Requirement already satisfied: cachetools<6,>=4.0 in /usr/local/lib/python3.10/dist-packages (from streamlit) (5.3.3)\n",
            "Requirement already satisfied: click<9,>=7.0 in /usr/local/lib/python3.10/dist-packages (from streamlit) (8.1.7)\n",
            "Requirement already satisfied: numpy<2,>=1.19.3 in /usr/local/lib/python3.10/dist-packages (from streamlit) (1.25.2)\n",
            "Requirement already satisfied: packaging<25,>=16.8 in /usr/local/lib/python3.10/dist-packages (from streamlit) (24.0)\n",
            "Requirement already satisfied: pandas<3,>=1.3.0 in /usr/local/lib/python3.10/dist-packages (from streamlit) (2.0.3)\n",
            "Requirement already satisfied: pillow<11,>=7.1.0 in /usr/local/lib/python3.10/dist-packages (from streamlit) (9.4.0)\n",
            "Requirement already satisfied: protobuf<5,>=3.20 in /usr/local/lib/python3.10/dist-packages (from streamlit) (3.20.3)\n",
            "Requirement already satisfied: pyarrow>=7.0 in /usr/local/lib/python3.10/dist-packages (from streamlit) (14.0.2)\n",
            "Requirement already satisfied: requests<3,>=2.27 in /usr/local/lib/python3.10/dist-packages (from streamlit) (2.31.0)\n",
            "Requirement already satisfied: rich<14,>=10.14.0 in /usr/local/lib/python3.10/dist-packages (from streamlit) (13.7.1)\n",
            "Requirement already satisfied: tenacity<9,>=8.1.0 in /usr/local/lib/python3.10/dist-packages (from streamlit) (8.3.0)\n",
            "Requirement already satisfied: toml<2,>=0.10.1 in /usr/local/lib/python3.10/dist-packages (from streamlit) (0.10.2)\n",
            "Requirement already satisfied: typing-extensions<5,>=4.3.0 in /usr/local/lib/python3.10/dist-packages (from streamlit) (4.11.0)\n",
            "Collecting gitpython!=3.1.19,<4,>=3.0.7 (from streamlit)\n",
            "  Downloading GitPython-3.1.43-py3-none-any.whl (207 kB)\n",
            "\u001b[2K     \u001b[90m━━━━━━━━━━━━━━━━━━━━━━━━━━━━━━━━━━━━━━━━\u001b[0m \u001b[32m207.3/207.3 kB\u001b[0m \u001b[31m17.9 MB/s\u001b[0m eta \u001b[36m0:00:00\u001b[0m\n",
            "\u001b[?25hCollecting pydeck<1,>=0.8.0b4 (from streamlit)\n",
            "  Downloading pydeck-0.9.1-py2.py3-none-any.whl (6.9 MB)\n",
            "\u001b[2K     \u001b[90m━━━━━━━━━━━━━━━━━━━━━━━━━━━━━━━━━━━━━━━━\u001b[0m \u001b[32m6.9/6.9 MB\u001b[0m \u001b[31m59.0 MB/s\u001b[0m eta \u001b[36m0:00:00\u001b[0m\n",
            "\u001b[?25hRequirement already satisfied: tornado<7,>=6.0.3 in /usr/local/lib/python3.10/dist-packages (from streamlit) (6.3.3)\n",
            "Collecting watchdog>=2.1.5 (from streamlit)\n",
            "  Downloading watchdog-4.0.1-py3-none-manylinux2014_x86_64.whl (83 kB)\n",
            "\u001b[2K     \u001b[90m━━━━━━━━━━━━━━━━━━━━━━━━━━━━━━━━━━━━━━━━\u001b[0m \u001b[32m83.0/83.0 kB\u001b[0m \u001b[31m6.8 MB/s\u001b[0m eta \u001b[36m0:00:00\u001b[0m\n",
            "\u001b[?25hRequirement already satisfied: anyio<5,>=3.5.0 in /usr/local/lib/python3.10/dist-packages (from openai) (3.7.1)\n",
            "Requirement already satisfied: distro<2,>=1.7.0 in /usr/lib/python3/dist-packages (from openai) (1.7.0)\n",
            "Requirement already satisfied: httpx<1,>=0.23.0 in /usr/local/lib/python3.10/dist-packages (from openai) (0.27.0)\n",
            "Requirement already satisfied: pydantic<3,>=1.9.0 in /usr/local/lib/python3.10/dist-packages (from openai) (2.7.1)\n",
            "Requirement already satisfied: sniffio in /usr/local/lib/python3.10/dist-packages (from openai) (1.3.1)\n",
            "Requirement already satisfied: tqdm>4 in /usr/local/lib/python3.10/dist-packages (from openai) (4.66.4)\n",
            "Requirement already satisfied: llama-index-agent-openai<0.3.0,>=0.1.4 in /usr/local/lib/python3.10/dist-packages (from llama-index) (0.2.5)\n",
            "Requirement already satisfied: llama-index-cli<0.2.0,>=0.1.2 in /usr/local/lib/python3.10/dist-packages (from llama-index) (0.1.12)\n",
            "Requirement already satisfied: llama-index-core<0.11.0,>=0.10.38 in /usr/local/lib/python3.10/dist-packages (from llama-index) (0.10.39)\n",
            "Requirement already satisfied: llama-index-embeddings-openai<0.2.0,>=0.1.5 in /usr/local/lib/python3.10/dist-packages (from llama-index) (0.1.10)\n",
            "Requirement already satisfied: llama-index-indices-managed-llama-cloud<0.2.0,>=0.1.2 in /usr/local/lib/python3.10/dist-packages (from llama-index) (0.1.6)\n",
            "Requirement already satisfied: llama-index-legacy<0.10.0,>=0.9.48 in /usr/local/lib/python3.10/dist-packages (from llama-index) (0.9.48)\n",
            "Requirement already satisfied: llama-index-llms-openai<0.2.0,>=0.1.13 in /usr/local/lib/python3.10/dist-packages (from llama-index) (0.1.21)\n",
            "Requirement already satisfied: llama-index-multi-modal-llms-openai<0.2.0,>=0.1.3 in /usr/local/lib/python3.10/dist-packages (from llama-index) (0.1.6)\n",
            "Requirement already satisfied: llama-index-program-openai<0.2.0,>=0.1.3 in /usr/local/lib/python3.10/dist-packages (from llama-index) (0.1.6)\n",
            "Requirement already satisfied: llama-index-question-gen-openai<0.2.0,>=0.1.2 in /usr/local/lib/python3.10/dist-packages (from llama-index) (0.1.3)\n",
            "Requirement already satisfied: llama-index-readers-file<0.2.0,>=0.1.4 in /usr/local/lib/python3.10/dist-packages (from llama-index) (0.1.23)\n",
            "Requirement already satisfied: llama-index-readers-llama-parse<0.2.0,>=0.1.2 in /usr/local/lib/python3.10/dist-packages (from llama-index) (0.1.4)\n",
            "Requirement already satisfied: joblib in /usr/local/lib/python3.10/dist-packages (from nltk) (1.4.2)\n",
            "Requirement already satisfied: regex>=2021.8.3 in /usr/local/lib/python3.10/dist-packages (from nltk) (2023.12.25)\n",
            "Requirement already satisfied: entrypoints in /usr/local/lib/python3.10/dist-packages (from altair<6,>=4.0->streamlit) (0.4)\n",
            "Requirement already satisfied: jinja2 in /usr/local/lib/python3.10/dist-packages (from altair<6,>=4.0->streamlit) (3.1.4)\n",
            "Requirement already satisfied: jsonschema>=3.0 in /usr/local/lib/python3.10/dist-packages (from altair<6,>=4.0->streamlit) (4.19.2)\n",
            "Requirement already satisfied: toolz in /usr/local/lib/python3.10/dist-packages (from altair<6,>=4.0->streamlit) (0.12.1)\n",
            "Requirement already satisfied: idna>=2.8 in /usr/local/lib/python3.10/dist-packages (from anyio<5,>=3.5.0->openai) (3.7)\n",
            "Requirement already satisfied: exceptiongroup in /usr/local/lib/python3.10/dist-packages (from anyio<5,>=3.5.0->openai) (1.2.1)\n",
            "Collecting gitdb<5,>=4.0.1 (from gitpython!=3.1.19,<4,>=3.0.7->streamlit)\n",
            "  Downloading gitdb-4.0.11-py3-none-any.whl (62 kB)\n",
            "\u001b[2K     \u001b[90m━━━━━━━━━━━━━━━━━━━━━━━━━━━━━━━━━━━━━━━━\u001b[0m \u001b[32m62.7/62.7 kB\u001b[0m \u001b[31m6.3 MB/s\u001b[0m eta \u001b[36m0:00:00\u001b[0m\n",
            "\u001b[?25hRequirement already satisfied: certifi in /usr/local/lib/python3.10/dist-packages (from httpx<1,>=0.23.0->openai) (2024.2.2)\n",
            "Requirement already satisfied: httpcore==1.* in /usr/local/lib/python3.10/dist-packages (from httpx<1,>=0.23.0->openai) (1.0.5)\n",
            "Requirement already satisfied: h11<0.15,>=0.13 in /usr/local/lib/python3.10/dist-packages (from httpcore==1.*->httpx<1,>=0.23.0->openai) (0.14.0)\n",
            "Requirement already satisfied: PyYAML>=6.0.1 in /usr/local/lib/python3.10/dist-packages (from llama-index-core<0.11.0,>=0.10.38->llama-index) (6.0.1)\n",
            "Requirement already satisfied: SQLAlchemy[asyncio]>=1.4.49 in /usr/local/lib/python3.10/dist-packages (from llama-index-core<0.11.0,>=0.10.38->llama-index) (2.0.30)\n",
            "Requirement already satisfied: aiohttp<4.0.0,>=3.8.6 in /usr/local/lib/python3.10/dist-packages (from llama-index-core<0.11.0,>=0.10.38->llama-index) (3.9.5)\n",
            "Requirement already satisfied: dataclasses-json in /usr/local/lib/python3.10/dist-packages (from llama-index-core<0.11.0,>=0.10.38->llama-index) (0.6.6)\n",
            "Requirement already satisfied: deprecated>=1.2.9.3 in /usr/local/lib/python3.10/dist-packages (from llama-index-core<0.11.0,>=0.10.38->llama-index) (1.2.14)\n",
            "Requirement already satisfied: dirtyjson<2.0.0,>=1.0.8 in /usr/local/lib/python3.10/dist-packages (from llama-index-core<0.11.0,>=0.10.38->llama-index) (1.0.8)\n",
            "Requirement already satisfied: fsspec>=2023.5.0 in /usr/local/lib/python3.10/dist-packages (from llama-index-core<0.11.0,>=0.10.38->llama-index) (2023.6.0)\n",
            "Requirement already satisfied: llamaindex-py-client<0.2.0,>=0.1.18 in /usr/local/lib/python3.10/dist-packages (from llama-index-core<0.11.0,>=0.10.38->llama-index) (0.1.19)\n",
            "Requirement already satisfied: nest-asyncio<2.0.0,>=1.5.8 in /usr/local/lib/python3.10/dist-packages (from llama-index-core<0.11.0,>=0.10.38->llama-index) (1.6.0)\n",
            "Requirement already satisfied: networkx>=3.0 in /usr/local/lib/python3.10/dist-packages (from llama-index-core<0.11.0,>=0.10.38->llama-index) (3.3)\n",
            "Requirement already satisfied: tiktoken>=0.3.3 in /usr/local/lib/python3.10/dist-packages (from llama-index-core<0.11.0,>=0.10.38->llama-index) (0.7.0)\n",
            "Requirement already satisfied: typing-inspect>=0.8.0 in /usr/local/lib/python3.10/dist-packages (from llama-index-core<0.11.0,>=0.10.38->llama-index) (0.9.0)\n",
            "Requirement already satisfied: wrapt in /usr/local/lib/python3.10/dist-packages (from llama-index-core<0.11.0,>=0.10.38->llama-index) (1.14.1)\n",
            "Requirement already satisfied: beautifulsoup4<5.0.0,>=4.12.3 in /usr/local/lib/python3.10/dist-packages (from llama-index-readers-file<0.2.0,>=0.1.4->llama-index) (4.12.3)\n",
            "Requirement already satisfied: pypdf<5.0.0,>=4.0.1 in /usr/local/lib/python3.10/dist-packages (from llama-index-readers-file<0.2.0,>=0.1.4->llama-index) (4.2.0)\n",
            "Requirement already satisfied: striprtf<0.0.27,>=0.0.26 in /usr/local/lib/python3.10/dist-packages (from llama-index-readers-file<0.2.0,>=0.1.4->llama-index) (0.0.26)\n",
            "Requirement already satisfied: llama-parse<0.5.0,>=0.4.0 in /usr/local/lib/python3.10/dist-packages (from llama-index-readers-llama-parse<0.2.0,>=0.1.2->llama-index) (0.4.3)\n",
            "Requirement already satisfied: python-dateutil>=2.8.2 in /usr/local/lib/python3.10/dist-packages (from pandas<3,>=1.3.0->streamlit) (2.8.2)\n",
            "Requirement already satisfied: pytz>=2020.1 in /usr/local/lib/python3.10/dist-packages (from pandas<3,>=1.3.0->streamlit) (2023.4)\n",
            "Requirement already satisfied: tzdata>=2022.1 in /usr/local/lib/python3.10/dist-packages (from pandas<3,>=1.3.0->streamlit) (2024.1)\n",
            "Requirement already satisfied: annotated-types>=0.4.0 in /usr/local/lib/python3.10/dist-packages (from pydantic<3,>=1.9.0->openai) (0.7.0)\n",
            "Requirement already satisfied: pydantic-core==2.18.2 in /usr/local/lib/python3.10/dist-packages (from pydantic<3,>=1.9.0->openai) (2.18.2)\n",
            "Requirement already satisfied: charset-normalizer<4,>=2 in /usr/local/lib/python3.10/dist-packages (from requests<3,>=2.27->streamlit) (3.3.2)\n",
            "Requirement already satisfied: urllib3<3,>=1.21.1 in /usr/local/lib/python3.10/dist-packages (from requests<3,>=2.27->streamlit) (2.0.7)\n",
            "Requirement already satisfied: markdown-it-py>=2.2.0 in /usr/local/lib/python3.10/dist-packages (from rich<14,>=10.14.0->streamlit) (3.0.0)\n",
            "Requirement already satisfied: pygments<3.0.0,>=2.13.0 in /usr/local/lib/python3.10/dist-packages (from rich<14,>=10.14.0->streamlit) (2.16.1)\n",
            "Requirement already satisfied: aiosignal>=1.1.2 in /usr/local/lib/python3.10/dist-packages (from aiohttp<4.0.0,>=3.8.6->llama-index-core<0.11.0,>=0.10.38->llama-index) (1.3.1)\n",
            "Requirement already satisfied: attrs>=17.3.0 in /usr/local/lib/python3.10/dist-packages (from aiohttp<4.0.0,>=3.8.6->llama-index-core<0.11.0,>=0.10.38->llama-index) (23.2.0)\n",
            "Requirement already satisfied: frozenlist>=1.1.1 in /usr/local/lib/python3.10/dist-packages (from aiohttp<4.0.0,>=3.8.6->llama-index-core<0.11.0,>=0.10.38->llama-index) (1.4.1)\n",
            "Requirement already satisfied: multidict<7.0,>=4.5 in /usr/local/lib/python3.10/dist-packages (from aiohttp<4.0.0,>=3.8.6->llama-index-core<0.11.0,>=0.10.38->llama-index) (6.0.5)\n",
            "Requirement already satisfied: yarl<2.0,>=1.0 in /usr/local/lib/python3.10/dist-packages (from aiohttp<4.0.0,>=3.8.6->llama-index-core<0.11.0,>=0.10.38->llama-index) (1.9.4)\n",
            "Requirement already satisfied: async-timeout<5.0,>=4.0 in /usr/local/lib/python3.10/dist-packages (from aiohttp<4.0.0,>=3.8.6->llama-index-core<0.11.0,>=0.10.38->llama-index) (4.0.3)\n",
            "Requirement already satisfied: soupsieve>1.2 in /usr/local/lib/python3.10/dist-packages (from beautifulsoup4<5.0.0,>=4.12.3->llama-index-readers-file<0.2.0,>=0.1.4->llama-index) (2.5)\n",
            "Collecting smmap<6,>=3.0.1 (from gitdb<5,>=4.0.1->gitpython!=3.1.19,<4,>=3.0.7->streamlit)\n",
            "  Downloading smmap-5.0.1-py3-none-any.whl (24 kB)\n",
            "Requirement already satisfied: MarkupSafe>=2.0 in /usr/local/lib/python3.10/dist-packages (from jinja2->altair<6,>=4.0->streamlit) (2.1.5)\n",
            "Requirement already satisfied: jsonschema-specifications>=2023.03.6 in /usr/local/lib/python3.10/dist-packages (from jsonschema>=3.0->altair<6,>=4.0->streamlit) (2023.12.1)\n",
            "Requirement already satisfied: referencing>=0.28.4 in /usr/local/lib/python3.10/dist-packages (from jsonschema>=3.0->altair<6,>=4.0->streamlit) (0.35.1)\n",
            "Requirement already satisfied: rpds-py>=0.7.1 in /usr/local/lib/python3.10/dist-packages (from jsonschema>=3.0->altair<6,>=4.0->streamlit) (0.18.1)\n",
            "Requirement already satisfied: mdurl~=0.1 in /usr/local/lib/python3.10/dist-packages (from markdown-it-py>=2.2.0->rich<14,>=10.14.0->streamlit) (0.1.2)\n",
            "Requirement already satisfied: six>=1.5 in /usr/local/lib/python3.10/dist-packages (from python-dateutil>=2.8.2->pandas<3,>=1.3.0->streamlit) (1.16.0)\n",
            "Requirement already satisfied: greenlet!=0.4.17 in /usr/local/lib/python3.10/dist-packages (from SQLAlchemy[asyncio]>=1.4.49->llama-index-core<0.11.0,>=0.10.38->llama-index) (3.0.3)\n",
            "Requirement already satisfied: mypy-extensions>=0.3.0 in /usr/local/lib/python3.10/dist-packages (from typing-inspect>=0.8.0->llama-index-core<0.11.0,>=0.10.38->llama-index) (1.0.0)\n",
            "Requirement already satisfied: marshmallow<4.0.0,>=3.18.0 in /usr/local/lib/python3.10/dist-packages (from dataclasses-json->llama-index-core<0.11.0,>=0.10.38->llama-index) (3.21.2)\n",
            "Installing collected packages: watchdog, smmap, pydeck, gitdb, gitpython, streamlit\n",
            "Successfully installed gitdb-4.0.11 gitpython-3.1.43 pydeck-0.9.1 smmap-5.0.1 streamlit-1.35.0 watchdog-4.0.1\n"
          ]
        }
      ]
    },
    {
      "cell_type": "code",
      "source": [
        "!pip install llama-index-experimental"
      ],
      "metadata": {
        "colab": {
          "base_uri": "https://localhost:8080/"
        },
        "collapsed": true,
        "id": "L4JIfXV4b_a0",
        "outputId": "72b8c950-399d-4e4e-e1a0-e4de1bd7abfa"
      },
      "execution_count": null,
      "outputs": [
        {
          "output_type": "stream",
          "name": "stdout",
          "text": [
            "Collecting llama-index-experimental\n",
            "  Downloading llama_index_experimental-0.1.3-py3-none-any.whl (11 kB)\n",
            "Requirement already satisfied: llama-index-core<0.11.0,>=0.10.11.post1 in /usr/local/lib/python3.10/dist-packages (from llama-index-experimental) (0.10.39)\n",
            "Requirement already satisfied: PyYAML>=6.0.1 in /usr/local/lib/python3.10/dist-packages (from llama-index-core<0.11.0,>=0.10.11.post1->llama-index-experimental) (6.0.1)\n",
            "Requirement already satisfied: SQLAlchemy[asyncio]>=1.4.49 in /usr/local/lib/python3.10/dist-packages (from llama-index-core<0.11.0,>=0.10.11.post1->llama-index-experimental) (2.0.30)\n",
            "Requirement already satisfied: aiohttp<4.0.0,>=3.8.6 in /usr/local/lib/python3.10/dist-packages (from llama-index-core<0.11.0,>=0.10.11.post1->llama-index-experimental) (3.9.5)\n",
            "Requirement already satisfied: dataclasses-json in /usr/local/lib/python3.10/dist-packages (from llama-index-core<0.11.0,>=0.10.11.post1->llama-index-experimental) (0.6.6)\n",
            "Requirement already satisfied: deprecated>=1.2.9.3 in /usr/local/lib/python3.10/dist-packages (from llama-index-core<0.11.0,>=0.10.11.post1->llama-index-experimental) (1.2.14)\n",
            "Requirement already satisfied: dirtyjson<2.0.0,>=1.0.8 in /usr/local/lib/python3.10/dist-packages (from llama-index-core<0.11.0,>=0.10.11.post1->llama-index-experimental) (1.0.8)\n",
            "Requirement already satisfied: fsspec>=2023.5.0 in /usr/local/lib/python3.10/dist-packages (from llama-index-core<0.11.0,>=0.10.11.post1->llama-index-experimental) (2023.6.0)\n",
            "Requirement already satisfied: httpx in /usr/local/lib/python3.10/dist-packages (from llama-index-core<0.11.0,>=0.10.11.post1->llama-index-experimental) (0.27.0)\n",
            "Requirement already satisfied: llamaindex-py-client<0.2.0,>=0.1.18 in /usr/local/lib/python3.10/dist-packages (from llama-index-core<0.11.0,>=0.10.11.post1->llama-index-experimental) (0.1.19)\n",
            "Requirement already satisfied: nest-asyncio<2.0.0,>=1.5.8 in /usr/local/lib/python3.10/dist-packages (from llama-index-core<0.11.0,>=0.10.11.post1->llama-index-experimental) (1.6.0)\n",
            "Requirement already satisfied: networkx>=3.0 in /usr/local/lib/python3.10/dist-packages (from llama-index-core<0.11.0,>=0.10.11.post1->llama-index-experimental) (3.3)\n",
            "Requirement already satisfied: nltk<4.0.0,>=3.8.1 in /usr/local/lib/python3.10/dist-packages (from llama-index-core<0.11.0,>=0.10.11.post1->llama-index-experimental) (3.8.1)\n",
            "Requirement already satisfied: numpy in /usr/local/lib/python3.10/dist-packages (from llama-index-core<0.11.0,>=0.10.11.post1->llama-index-experimental) (1.25.2)\n",
            "Requirement already satisfied: openai>=1.1.0 in /usr/local/lib/python3.10/dist-packages (from llama-index-core<0.11.0,>=0.10.11.post1->llama-index-experimental) (1.30.3)\n",
            "Requirement already satisfied: pandas in /usr/local/lib/python3.10/dist-packages (from llama-index-core<0.11.0,>=0.10.11.post1->llama-index-experimental) (2.0.3)\n",
            "Requirement already satisfied: pillow>=9.0.0 in /usr/local/lib/python3.10/dist-packages (from llama-index-core<0.11.0,>=0.10.11.post1->llama-index-experimental) (9.4.0)\n",
            "Requirement already satisfied: requests>=2.31.0 in /usr/local/lib/python3.10/dist-packages (from llama-index-core<0.11.0,>=0.10.11.post1->llama-index-experimental) (2.31.0)\n",
            "Requirement already satisfied: tenacity<9.0.0,>=8.2.0 in /usr/local/lib/python3.10/dist-packages (from llama-index-core<0.11.0,>=0.10.11.post1->llama-index-experimental) (8.3.0)\n",
            "Requirement already satisfied: tiktoken>=0.3.3 in /usr/local/lib/python3.10/dist-packages (from llama-index-core<0.11.0,>=0.10.11.post1->llama-index-experimental) (0.7.0)\n",
            "Requirement already satisfied: tqdm<5.0.0,>=4.66.1 in /usr/local/lib/python3.10/dist-packages (from llama-index-core<0.11.0,>=0.10.11.post1->llama-index-experimental) (4.66.4)\n",
            "Requirement already satisfied: typing-extensions>=4.5.0 in /usr/local/lib/python3.10/dist-packages (from llama-index-core<0.11.0,>=0.10.11.post1->llama-index-experimental) (4.11.0)\n",
            "Requirement already satisfied: typing-inspect>=0.8.0 in /usr/local/lib/python3.10/dist-packages (from llama-index-core<0.11.0,>=0.10.11.post1->llama-index-experimental) (0.9.0)\n",
            "Requirement already satisfied: wrapt in /usr/local/lib/python3.10/dist-packages (from llama-index-core<0.11.0,>=0.10.11.post1->llama-index-experimental) (1.14.1)\n",
            "Requirement already satisfied: aiosignal>=1.1.2 in /usr/local/lib/python3.10/dist-packages (from aiohttp<4.0.0,>=3.8.6->llama-index-core<0.11.0,>=0.10.11.post1->llama-index-experimental) (1.3.1)\n",
            "Requirement already satisfied: attrs>=17.3.0 in /usr/local/lib/python3.10/dist-packages (from aiohttp<4.0.0,>=3.8.6->llama-index-core<0.11.0,>=0.10.11.post1->llama-index-experimental) (23.2.0)\n",
            "Requirement already satisfied: frozenlist>=1.1.1 in /usr/local/lib/python3.10/dist-packages (from aiohttp<4.0.0,>=3.8.6->llama-index-core<0.11.0,>=0.10.11.post1->llama-index-experimental) (1.4.1)\n",
            "Requirement already satisfied: multidict<7.0,>=4.5 in /usr/local/lib/python3.10/dist-packages (from aiohttp<4.0.0,>=3.8.6->llama-index-core<0.11.0,>=0.10.11.post1->llama-index-experimental) (6.0.5)\n",
            "Requirement already satisfied: yarl<2.0,>=1.0 in /usr/local/lib/python3.10/dist-packages (from aiohttp<4.0.0,>=3.8.6->llama-index-core<0.11.0,>=0.10.11.post1->llama-index-experimental) (1.9.4)\n",
            "Requirement already satisfied: async-timeout<5.0,>=4.0 in /usr/local/lib/python3.10/dist-packages (from aiohttp<4.0.0,>=3.8.6->llama-index-core<0.11.0,>=0.10.11.post1->llama-index-experimental) (4.0.3)\n",
            "Requirement already satisfied: pydantic>=1.10 in /usr/local/lib/python3.10/dist-packages (from llamaindex-py-client<0.2.0,>=0.1.18->llama-index-core<0.11.0,>=0.10.11.post1->llama-index-experimental) (2.7.1)\n",
            "Requirement already satisfied: anyio in /usr/local/lib/python3.10/dist-packages (from httpx->llama-index-core<0.11.0,>=0.10.11.post1->llama-index-experimental) (3.7.1)\n",
            "Requirement already satisfied: certifi in /usr/local/lib/python3.10/dist-packages (from httpx->llama-index-core<0.11.0,>=0.10.11.post1->llama-index-experimental) (2024.2.2)\n",
            "Requirement already satisfied: httpcore==1.* in /usr/local/lib/python3.10/dist-packages (from httpx->llama-index-core<0.11.0,>=0.10.11.post1->llama-index-experimental) (1.0.5)\n",
            "Requirement already satisfied: idna in /usr/local/lib/python3.10/dist-packages (from httpx->llama-index-core<0.11.0,>=0.10.11.post1->llama-index-experimental) (3.7)\n",
            "Requirement already satisfied: sniffio in /usr/local/lib/python3.10/dist-packages (from httpx->llama-index-core<0.11.0,>=0.10.11.post1->llama-index-experimental) (1.3.1)\n",
            "Requirement already satisfied: h11<0.15,>=0.13 in /usr/local/lib/python3.10/dist-packages (from httpcore==1.*->httpx->llama-index-core<0.11.0,>=0.10.11.post1->llama-index-experimental) (0.14.0)\n",
            "Requirement already satisfied: click in /usr/local/lib/python3.10/dist-packages (from nltk<4.0.0,>=3.8.1->llama-index-core<0.11.0,>=0.10.11.post1->llama-index-experimental) (8.1.7)\n",
            "Requirement already satisfied: joblib in /usr/local/lib/python3.10/dist-packages (from nltk<4.0.0,>=3.8.1->llama-index-core<0.11.0,>=0.10.11.post1->llama-index-experimental) (1.4.2)\n",
            "Requirement already satisfied: regex>=2021.8.3 in /usr/local/lib/python3.10/dist-packages (from nltk<4.0.0,>=3.8.1->llama-index-core<0.11.0,>=0.10.11.post1->llama-index-experimental) (2023.12.25)\n",
            "Requirement already satisfied: distro<2,>=1.7.0 in /usr/lib/python3/dist-packages (from openai>=1.1.0->llama-index-core<0.11.0,>=0.10.11.post1->llama-index-experimental) (1.7.0)\n",
            "Requirement already satisfied: charset-normalizer<4,>=2 in /usr/local/lib/python3.10/dist-packages (from requests>=2.31.0->llama-index-core<0.11.0,>=0.10.11.post1->llama-index-experimental) (3.3.2)\n",
            "Requirement already satisfied: urllib3<3,>=1.21.1 in /usr/local/lib/python3.10/dist-packages (from requests>=2.31.0->llama-index-core<0.11.0,>=0.10.11.post1->llama-index-experimental) (2.0.7)\n",
            "Requirement already satisfied: greenlet!=0.4.17 in /usr/local/lib/python3.10/dist-packages (from SQLAlchemy[asyncio]>=1.4.49->llama-index-core<0.11.0,>=0.10.11.post1->llama-index-experimental) (3.0.3)\n",
            "Requirement already satisfied: mypy-extensions>=0.3.0 in /usr/local/lib/python3.10/dist-packages (from typing-inspect>=0.8.0->llama-index-core<0.11.0,>=0.10.11.post1->llama-index-experimental) (1.0.0)\n",
            "Requirement already satisfied: marshmallow<4.0.0,>=3.18.0 in /usr/local/lib/python3.10/dist-packages (from dataclasses-json->llama-index-core<0.11.0,>=0.10.11.post1->llama-index-experimental) (3.21.2)\n",
            "Requirement already satisfied: python-dateutil>=2.8.2 in /usr/local/lib/python3.10/dist-packages (from pandas->llama-index-core<0.11.0,>=0.10.11.post1->llama-index-experimental) (2.8.2)\n",
            "Requirement already satisfied: pytz>=2020.1 in /usr/local/lib/python3.10/dist-packages (from pandas->llama-index-core<0.11.0,>=0.10.11.post1->llama-index-experimental) (2023.4)\n",
            "Requirement already satisfied: tzdata>=2022.1 in /usr/local/lib/python3.10/dist-packages (from pandas->llama-index-core<0.11.0,>=0.10.11.post1->llama-index-experimental) (2024.1)\n",
            "Requirement already satisfied: exceptiongroup in /usr/local/lib/python3.10/dist-packages (from anyio->httpx->llama-index-core<0.11.0,>=0.10.11.post1->llama-index-experimental) (1.2.1)\n",
            "Requirement already satisfied: packaging>=17.0 in /usr/local/lib/python3.10/dist-packages (from marshmallow<4.0.0,>=3.18.0->dataclasses-json->llama-index-core<0.11.0,>=0.10.11.post1->llama-index-experimental) (24.0)\n",
            "Requirement already satisfied: annotated-types>=0.4.0 in /usr/local/lib/python3.10/dist-packages (from pydantic>=1.10->llamaindex-py-client<0.2.0,>=0.1.18->llama-index-core<0.11.0,>=0.10.11.post1->llama-index-experimental) (0.7.0)\n",
            "Requirement already satisfied: pydantic-core==2.18.2 in /usr/local/lib/python3.10/dist-packages (from pydantic>=1.10->llamaindex-py-client<0.2.0,>=0.1.18->llama-index-core<0.11.0,>=0.10.11.post1->llama-index-experimental) (2.18.2)\n",
            "Requirement already satisfied: six>=1.5 in /usr/local/lib/python3.10/dist-packages (from python-dateutil>=2.8.2->pandas->llama-index-core<0.11.0,>=0.10.11.post1->llama-index-experimental) (1.16.0)\n",
            "Installing collected packages: llama-index-experimental\n",
            "Successfully installed llama-index-experimental-0.1.3\n"
          ]
        }
      ]
    },
    {
      "cell_type": "markdown",
      "source": [
        "## import dependencies"
      ],
      "metadata": {
        "id": "UyxXUVbOcFu2"
      }
    },
    {
      "cell_type": "code",
      "source": [
        "from llama_index.core import (\n",
        "    VectorStoreIndex,\n",
        "    SimpleKeywordTableIndex,\n",
        "    SimpleDirectoryReader,\n",
        ")\n",
        "from llama_index.core import SummaryIndex\n",
        "from llama_index.core.schema import IndexNode\n",
        "from llama_index.core.tools import QueryEngineTool, ToolMetadata\n",
        "from llama_index.llms.openai import OpenAI\n",
        "from llama_index.core.callbacks import CallbackManager"
      ],
      "metadata": {
        "id": "59QvZNaLb_YV"
      },
      "execution_count": null,
      "outputs": []
    },
    {
      "cell_type": "code",
      "source": [],
      "metadata": {
        "id": "F6A9gvePb_V3"
      },
      "execution_count": null,
      "outputs": []
    },
    {
      "cell_type": "markdown",
      "source": [
        "## ingest data"
      ],
      "metadata": {
        "id": "VOEVn1PLczl-"
      }
    },
    {
      "cell_type": "markdown",
      "source": [
        "### wikipedia articles"
      ],
      "metadata": {
        "id": "MIPjdzvWc1UL"
      }
    },
    {
      "cell_type": "code",
      "source": [
        "wiki_titles = [\n",
        "    \"Crushing_plant\",\n",
        "    \"Crusher\",\n",
        "    # \"AUBEMA_Maschinenfabrik_GmbH\",\n",
        "    \"High-frequency_vibrating_screens\",\n",
        "    # \"Thyssenkrupp_Polysius_GmbH\",\n",
        "    \"Thyssenkrupp\",\n",
        "]\n",
        "\n",
        "data_wiki_path = \"data/data_wikis\""
      ],
      "metadata": {
        "id": "vtTOabkoczFY"
      },
      "execution_count": null,
      "outputs": []
    },
    {
      "cell_type": "code",
      "source": [
        "from pathlib import Path\n",
        "\n",
        "import requests\n",
        "\n",
        "\n",
        "\n",
        "for title in wiki_titles:\n",
        "    response = requests.get(\n",
        "        \"https://en.wikipedia.org/w/api.php\",\n",
        "        params={\n",
        "            \"action\": \"query\",\n",
        "            \"format\": \"json\",\n",
        "            \"titles\": title,\n",
        "            \"prop\": \"extracts\",\n",
        "            # 'exintro': True,\n",
        "            \"explaintext\": True,\n",
        "        },\n",
        "    ).json()\n",
        "    page = next(iter(response[\"query\"][\"pages\"].values()))\n",
        "    print(page)\n",
        "    wiki_text = page[\"extract\"]\n",
        "\n",
        "    data_path = Path(data_wiki_path)\n",
        "    if not data_path.exists():\n",
        "        Path.mkdir(data_path)\n",
        "\n",
        "    with open(data_path / f\"{title}.txt\", \"w\") as fp:\n",
        "        fp.write(wiki_text)"
      ],
      "metadata": {
        "colab": {
          "base_uri": "https://localhost:8080/"
        },
        "id": "4blZXnf2czCy",
        "outputId": "382634cc-c7c8-4284-ab30-c8d0491d1314"
      },
      "execution_count": null,
      "outputs": [
        {
          "output_type": "stream",
          "name": "stdout",
          "text": [
            "{'pageid': 38269892, 'ns': 0, 'title': 'Crushing plant', 'extract': 'A Crushing plant is one-stop crushing installation, which can be used for rock crushing, garbage crushing, building materials crushing and other similar operations. Crushing plants may be either fixed or mobile. A crushing plant has different stations (primary, secondary, tertiary, ...) where different crushing, selection and transport cycles are done in order to obtain different stone sizes or the required granulometry.\\n\\n\\n== Components ==\\nCrushing plants make use of a large range of equipment, such as a pre-screener, loading conveyor, intake hopper, magnetic separator, crushing unit, such as jaw crushers and cone crusher etc.\\n\\nVibration feeder: These machines feed the jaw and impact crusher with the rocks and stones to be crushed.\\nCrushers: These are the machines where the rocks and stones are crushed. There are different types of crushers for different types of rocks and stones and different sizes of the input and output material. Each plant would incorporate one or several crushing machines depending on the required final material (small stones or sand).\\nVibrating screen: These machines are used to separate the different sizes of the material obtained by the crushers.\\nBelt conveyor: These elements are the belts used for transportation of the material from one machine to another during different phases of process.\\nCentral electric control system: Control and monitor the operation of the entire system.\\n\\n\\n== Process of crushing plant ==\\nRaw materials are evenly and gradually conveyed into jaw stone crushing equipment for primary crushing via the hopper of vibrating feeder.\\nThe crushed stone materials are conveyed to crushing plant by belt conveyor for secondary crushing before they are sent to vibrating screen to be separated.\\nAfter separating, qualified materials will be taken away as final products, while unqualified materials will be carried back to the stone crushing equipment for recrushing. And customers can classify final products according to different size ranges. All the final products are up to the related standards within and beyond India. Of course, according to different requirements, customers can adjust the size of their final products from this stone crushing plant. Process of Stone Crushing Plant\\nClients will get the satisfactory products after objects being crushed for several times. Dust is generated during the working process while the dust control units are needed.\\n\\n\\n== See also ==\\nCrusher\\n\\n\\n== References =='}\n",
            "{'pageid': 203921, 'ns': 0, 'title': 'Crusher', 'extract': 'A crusher is a machine designed to reduce large rocks into smaller rocks, gravel, sand or rock dust.\\nCrushers may be used to reduce the size, or change the form, of waste materials so they can be more easily disposed of or recycled, or to reduce the size of a solid mix of raw materials (as in rock ore), so that pieces of different composition can be differentiated. Crushing is the process of transferring a force amplified by mechanical advantage through a material made of molecules that bond together more strongly, and resist deformation more, than those in the material being crushed do. Crushing devices hold material between two parallel or tangent solid surfaces, and apply sufficient force to bring the surfaces together to generate enough energy within the material being crushed so that its molecules separate from (fracturing), or change alignment in relation to (deformation), each other. The earliest crushers were hand-held stones, where the weight of the stone provided a boost to muscle power, used against a stone anvil. Querns and mortars are types of these crushing devices.\\n\\n\\n== Background history ==\\n\\nIn industry, crushers are machines which use a metal surface to break or compress materials into small fractional chunks or denser masses. Throughout most of industrial history, the greater part of crushing and mining part of the process occurred under muscle power as the application of force concentrated in the tip of the miners pick or sledge hammer driven drill bit. Before explosives came into widespread use in bulk mining in the mid-nineteenth century, most initial ore crushing and sizing was by hand and hammers at the mine or by water powered trip hammers in the small charcoal fired smithies and iron works typical of the Renaissance through the early-to-middle industrial revolution. It was only after explosives, and later early powerful steam shovels produced large chunks of materials, chunks originally reduced by hammering in the mine before being loaded into sacks for a trip to the surface, chunks that were eventually also to lead to rails and mine railways transporting bulk aggregations that post-mine face crushing became widely necessary. The earliest of these were in the foundries, but as coal took hold the larger operations became the coal breakers that fueled industrial growth from the first decade of the 1600s to the replacement of breakers in the 1970s through the fuel needs of the present day. The gradual coming of that era and displacement of the cottage industry based economies was itself accelerated first by the utility of wrought and cast iron as a desired materials giving impetus to larger operations, then in the late-sixteenth century by the increasing scarcity of wood lands for charcoal production to make the newfangled window glass material that had become—along with the chimney— \\'all the rage\\'   among the growing middle-class and affluence of the sixteenth-and-seventeenth centuries;and as always, the charcoal needed to smelt metals, especially to produce ever larger amounts of brass and bronze, pig iron, cast iron and wrought iron demanded by the new consumer classes. Other metallurgical developments such as silver and gold mining mirrored the practices and developments of the bulk material handling methods and technologies feeding the burgeoning appetite for more and more iron and glass, both of which were rare in personal possessions until the 1700s. \\nThings only became worse when the English figured out how to cast the more economical iron cannons (1547), following on their feat of becoming the armorers of the European continent\\'s powers by having been leading producers of brass and bronze guns, and eventually by various acts of Parliament, gradually banned or restricted the further cutting of trees for charcoal in larger and larger regions in the United Kingdom. In 1611, a consortium led by courtier Edward Zouch was granted a patent for the reverberatory furnace, a furnace using coal, not precious national timber reserves, which was immediately employed in glass making. An early politically connected and wealthy Robber Baron figure Sir Robert Mansell bought his way into the fledgling furnace company and wrested control of it, and by 1615 managed to have James I issue a proclamation forbidding the use of wood to produce glass, giving his family\\'s extensive coal holdings a monopoly on both source and means of production for nearly half-a-century. Abraham Darby a century later relocated to Bristol where he had established a building brass and bronze industry by importing Dutch workers and using them to raid Dutch techniques. Both materials were considered superior to iron for cannon, and machines as they were better understood. But Darby would change the world in several key ways.\\nWhere the Dutch had failed in casting iron, one of Darby\\'s apprentices, John Thomas succeeded in 1707 and as Burke put it: \"had given England the key to the Industrial Revolution\". At the time, mines and foundries were virtually all small enterprises except for the tin mines (driven by the price and utility of brass) and materials came out of the mines already hammered small by legions of miners who had to stuff their work into carry sacks for pack animal slinging. Concurrently, mines needed drainage resulting in Savery and Newcomen\\'s early steam driven pumping systems. The deeper the mines went, the larger the demand became for better pumps, the greater the demand for iron, the greater the need for coal, the greater the demand for each. Seeing ahead clearly, Darby, sold off his brass business interests and relocated to Coalbrookdale with its plentiful coal mines, water power and nearby ore supplies. Over that decade his foundries developed iron casting technologies and began to supplant other metals in many applications. He adapted Coking of his fuel by copying Brewers practices. In 1822, the pumping industries needs for larger cylinders met up with Darby\\'s ability to melt sufficient quantities of pig iron to cast large inexpensive iron cylinders instead of costly brass ones, reducing the cost of cylinders by nine-tenths. \\nWith gunpowder being increasingly applied to mining, rock chunks from a mining face became much larger, and the blast dependent mining itself had become dependent upon an organized group, not just an individual swinging a pick. Economies of scale gradually infused industrial enterprises, while transport became a key bottleneck as the volume of moved materials continued to increase following demand. This spurred numerous canal projects, inspired laying first wooden, then iron protected rails using draft animals to pull loads in the emerging bulk goods transportation dependent economy. In the coal industry, which grew as coal became the preferred fuel for smelting ores, crushing and preparation (cleaning) was performed for over a hundred years in coal breakers, massive noisy buildings full of conveyors, belt-powered trip-hammer crushing stages and giant metal grading/sorting grates. Like mine pumps, the internal conveyors and trip-hammers were housed within these 7—11 storey buildings.\\n\\n\\n== Industrial use ==\\nMining operations use crushers, commonly classified by the degree to which they fragment the starting material, with primary and secondary crushers handling coarse materials, and tertiary and quaternary crushers reducing ore particles to finer gradations. Each crusher is designed to work with a certain maximum size of raw material, and often delivers its output to a screening machine which sorts and directs the product for further processing. As well as size, machines designed for each of these stages must take into account the basic methods of material size reduction; impact, compression, attrition, and cutting. Depending on the material properties and desired outcome some methods of crushing and thus machines designs may be more appropriate for the use case.\\nTypically, crushing stages are followed by milling stages if the materials need to be further reduced. Additionally rock breakers are typically located next to a crusher to reduce oversize material too large for a crusher. Crushers are used to reduce particle size enough so that the material can be processed into finer particles in a grinder. A typical processing line at a mine might consist of a crusher followed by a SAG mill followed by a ball mill. In this context, the SAG mill and ball mill are considered grinders rather than crushers.\\nIn operation, the raw material (of various sizes) is usually delivered to the primary crusher\\'s hopper by dump trucks, excavators or wheeled front-end loaders. A feeder device such as an apron feeder, conveyor or vibrating grid controls the rate at which this material enters the crusher, and often contains a preliminary screening device which allows smaller material to bypass the crusher itself, thus improving efficiency. Primary crushing reduces the large pieces to a size which can be handled by the downstream machinery.\\nSome crushers are mobile and can crush rocks as large as 1.5 meter (60 inches). Primarily used in-pit at the mine face these units are able to move with the large infeed machines (mainly shovels) to increase the tonnage produced. In a mobile road operation, these crushed rocks are directly combined with concrete, and asphalt which are then deposited on to a road surface. This removes the need for hauling over sized material to a stationary crusher and then back to the road surface. Additionally, Small/Mini Crushers (approx 6,000 to 60,000 pound range) are portable crushers typically used by travelling from jobsite-to-jobsite. These small crusher may be track or wheel mounted, gas, diesel, or electrically powered, but are primarly of the Jaw Crusher variety. \\n\\n\\n== Types of crushers ==\\n\\n\\t\\t\\n\\t\\t\\t\\n\\t\\t\\t\\n\\t\\t\\n\\t\\t\\n\\t\\t\\t\\n\\t\\t\\t\\n\\t\\t\\n\\t\\t\\n\\t\\t\\t\\n\\t\\t\\t\\n\\t\\t\\n\\t\\t\\n\\t\\t\\t\\n\\t\\t\\t\\n\\t\\t\\n\\t\\t\\n\\t\\t\\t\\n\\t\\t\\t\\n\\t\\t\\n\\t\\t\\n\\t\\t\\t\\n\\t\\t\\t\\n\\t\\t\\n\\nThe following table describes typical uses of commonly used crushers:\\n\\n\\n=== Jaw crusher ===\\n\\nA jaw crusher uses compressive force for breaking of particle. This mechanical pressure is achieved by the two jaws of the crusher of which one is fixed while the other reciprocates. A jaw or toggle crusher consists of a set of vertical jaws, one jaw is kept stationary and is called a fixed jaw while the other jaw called a swing jaw, moves back and forth relative to it, by a cam or pitman mechanism, acting like a class II lever or a nutcracker. The volume or cavity between the two jaws is called the crushing chamber. The movement of the swing jaw can be quite small, since complete crushing is not performed in one stroke. The inertia required to crush the material is provided by a flywheel that moves a shaft creating an eccentric motion that causes the closing of the gap.\\nJaw crushers are heavy duty machines and hence need to be robustly constructed. The outer frame is generally made of cast iron or steel. The jaws themselves are usually constructed from cast steel. They are fitted with replaceable liners which are made of manganese steel, or Ni-hard (a Ni-Cr alloyed cast iron). Jaw crushers are usually constructed in sections to ease the process transportation if they are to be taken underground for carrying out the operations.\\nJaw crushers are classified on the basis of the position of the pivoting of the swing jaw\\n\\nBlake crusher-the swing jaw is fixed at the lower position\\nDodge crusher-the swing jaw is fixed at the upper position\\nUniversal crusher-the swing jaw is fixed at an intermediate position\\nThe Blake crusher was patented by Eli Whitney Blake in 1858. The Blake type jaw crusher has a fixed feed area and a variable discharge area. Blake crushers are of two types- single toggle and double toggle jaw crushers.\\nIn the single toggle jaw crushers, the swing jaw is suspended on the eccentric shaft which leads to a much more compact design than that of the double toggle jaw crusher. The swing jaw, suspended on the eccentric, undergoes two types of motion- swing motion towards the fixed jaw due to the action of toggle plate and vertical movement due to the rotation of the eccentric. These two motions, when combined, lead to an elliptical jaw motion. This motion is useful as it assists in pushing the particles through the crushing chamber. This phenomenon leads to higher capacity of the single toggle jaw crushers but it also results in higher wear of the crushing jaws. These type of jaw crushers are preferred for the crushing of softer particles.\\nIn the double toggle jaw crushers, the oscillating motion of the swing jaw is caused by the vertical motion of the pitman. The pitman moves up and down. The swing jaw closes, i.e., it moves towards the fixed jaw when the pitman moves upward and opens during the downward motion of the pitman. This type is commonly used in mines due to its ability to crush tough and abrasive materials.\\nIn the Dodge type jaw crushers, the jaws are farther apart at the top than at the bottom, forming a tapered chute so that the material is crushed progressively smaller and smaller as it travels downward until it is small enough to escape from the bottom opening. The Dodge jaw crusher has a variable feed area and a fixed discharge area which leads to choking of the crusher and hence is used only for laboratory purposes and not for heavy duty operations.\\n\\n\\n=== Gyratory crusher ===\\n\\nA gyratory crusher is similar in basic concept to a jaw crusher, consisting of a concave surface and a conical head; both surfaces are typically lined with manganese steel surfaces. The inner cone has a slight circular movement, but does not rotate; the movement is generated by an eccentric arrangement. As with the jaw crusher, material travels downward between the two surfaces being progressively crushed until it is small enough to fall out through the gap between the two surfaces.\\nA gyratory crusher is one of the main types of primary crushers in a mine or ore processing plant. Gyratory crushers are designated in size either by the gape and mantle diameter or by the size of the receiving opening. Gyratory crushers can be used for primary or secondary crushing. The crushing action is caused by the closing of the gap between the mantle line (movable) mounted on the central vertical spindle and the concave liners (fixed) mounted on the main frame of the crusher. The gap is opened and closed by an eccentric on the bottom of the spindle that causes the central vertical spindle to gyrate. The vertical spindle is free to rotate around its own axis. The crusher illustrated is a short-shaft suspended spindle type, meaning that the main shaft is suspended at the top and that the eccentric is mounted above the gear. The short-shaft design has superseded the long-shaft design in which the eccentric is mounted below the gear.\\n\\n\\n=== Cone crusher ===\\nWith the rapid development of mining technology, the cone crusher can be divided into four types: compound cone crusher, spring cone crusher, hydraulic cone crusher and gyratory crusher. According to different models, the cone crusher is divided into vertical shaft cone (VSC) series cone crusher (compound cone crusher), Symons cone crusher, PY cone crusher, single cylinder hydraulic cone crusher, multi-cylinder hydraulic cone crusher, gyratory crusher, etc.\\nA cone crusher is similar in operation to a gyratory crusher, with less steepness in the crushing chamber and more of a parallel zone between crushing zones. A cone crusher breaks rock by squeezing the rock between an eccentrically gyrating spindle, which is covered by a wear-resistant mantle, and the enclosing concave hopper, covered by a manganese concave or a bowl liner. As rock enters the top of the cone crusher, it becomes wedged and squeezed between the mantle and the bowl liner or concave. Large pieces of ore are broken once, and then fall to a lower position (because they are now smaller) where they are broken again. This process continues until the pieces are small enough to fall through the narrow opening at the bottom of the crusher.\\nA cone crusher is suitable for crushing a variety of mid-hard and above mid-hard ores and rocks. It has the advantage of reliable construction, high productivity, better granularity and shape of finished products, easy adjustment and lower operational costs. The spring release system of a cone crusher acts an overload protection that allows tramp to pass through the crushing chamber without damage to the crusher.\\n\\n\\n==== Compound cone crusher ====\\nCompound cone crusher (VSC series cone crusher) can crush materials of over medium hardness. It is mainly used in mining, chemical industry, road and bridge construction, building, etc. As for VSC series cone crusher, there are four crushing cavities (coarse, medium, fine and superfine) to choose. Compared with the same type, VSC series cone crusher, whose combination of crushing frequency and eccentricity is the best, can make materials have higher comminution degree and higher yield. In addition, VSC series cone crusher\\'s enhanced laminating crushing effect on material particles makes the cubic shape of crushed materials better, which increases the selling point.\\n\\n\\n==== Symons cone crusher ====\\nSymons cone crusher (spring cone crusher) can crush materials of above medium hardness. And it is widely used in metallurgy, building, hydropower, transportation, chemical industry, etc. When used with jaw crusher, it can be used as secondary, tertiary or quaternary crushing. Generally speaking, the standard type of Symons cone crusher is applied to medium crushing. The medium type is applied to fine crushing. The short head type is applied to coarse fine crushing. As casting steel technique is adopted, the machine has good rigidity and large high strength.\\n\\n\\n==== Single cylinder hydraulic cone crusher ====\\nSingle cylinder hydraulic cone crusher is mainly composed of main frame, transmission device, eccentric shaft, bowl-shaped bearing, crushing cone, mantle, bowl liner, adjusting device, adjusting sleeve, hydraulic control system, hydraulic safety system, dust-proof ring, feed plate, etc.  It is applied to cement mill, mining, building construction, road &bridge construction, railway construction and metallurgy and some other industries.\\n\\n\\n==== Multi-cylinder hydraulic cone crusher ====\\nMulti-cylinder hydraulic cone crusher is mainly composed of main frame, eccentric shaft, crushing cone, mantle, bowl liner, adjusting device, dust ring, transmission device, bowl-shaped bearing, adjusting sleeve, hydraulic control system, hydraulic safety system, etc. The electric motor of the cone crusher drives the eccentric shaft to make periodic swing movement under the shaft axis, and consequently surface of mantle approaches and leaves the surface of bowl liner now and then, so that the material is crushed due to squeezing and grinding inside the crushing chamber. The safety cylinder of the machine can ensure safety as well as lift supporting sleeve and static cone by a hydraulic system and automatically remove the blocks in the crushing chamber when the machine is suddenly stuffy. Thus the maintenance rate is greatly reduced and production efficiency is greatly improved as it can remove blocks without disassembling the machine.\\n\\n\\n=== Impact crusher ===\\nImpact crushers involve the use of impact rather than pressure to crush material. The material is contained within a cage, with openings on the bottom, end, or side of the desired size to allow pulverized material to escape. There are two types of impact crushers: horizontal shaft impactor and vertical shaft impactor.\\n\\n\\n==== Horizontal shaft impactor (HSI) / hammermill ====\\nThe HSI crushers break rock by impacting the rock with hammers that are fixed upon the outer edge of a spinning rotor. HSI machines are sold in stationary, trailer mounted and crawler mounted configurations. HSI\\'s are used in recycling, hard rock and soft materials. In earlier years the practical use of HSI crushers is limited to soft materials and non abrasive materials, such as limestone, phosphate, gypsum, weathered shales, however improvements in metallurgy have changed the application of these machines.\\n\\n\\n==== Vertical shaft impactor (VSI) ====\\n\\nVSI crushers use a different approach involving a high speed rotor with wear resistant tips and a crushing chamber designed to \\'throw\\' the rock against. The VSI crushers utilize velocity rather than surface force as the predominant force to break rock. In its natural state, rock has a jagged and uneven surface. Applying surface force (pressure) results in unpredictable and typically non-cubical resulting particles. Utilizing velocity rather than surface force allows the breaking force to be applied evenly both across the surface of the rock as well as through the mass of the rock. Rock, regardless of size, has natural fissures (faults) throughout its structure. As rock is \\'thrown\\' by a VSI rotor against a solid anvil, it fractures and breaks along these fissures. Final particle size can be controlled by 1) the velocity at which the rock is thrown against the anvil and 2) the distance between the end of the rotor and the impact point on the anvil. The product resulting from VSI crushing is generally of a consistent cubical shape such as that required by modern Superpave highway asphalt applications. Using this method also allows materials with much higher abrasiveness to be crushed than is capable with an HSI and most other crushing methods.\\nVSI crushers generally utilize a high speed spinning rotor at the center of the crushing chamber and an outer impact surface of either abrasive resistant metal anvils or crushed rock. Utilizing cast metal surfaces \\'anvils\\' is traditionally referred to as a \"shoe and anvil VSI\". Utilizing crushed rock on the outer walls of the crusher for new rock to be crushed against is traditionally referred to as \"rock on rock VSI\". VSI crushers can be used in static plant set-up or in mobile tracked equipment.\\n\\n\\n=== Mineral sizers ===\\n\\nMineral sizers are a variety of roll crushers which use two rotors with large teeth, on small diameter shafts, driven at a low speed by a direct high torque drive system. This design produced three-stage breaking action which all interact when breaking materials using sizer technology.\\n\\nThe gripping: at the first stage, the material is gripped by the leading faces of opposed rotor teeth. These subject the rock to multiple point loading, inducing stress into the material to exploit any natural weaknesses. At the second stage, material is broken in tension by being subjected to a three-point loading, applied between the front tooth faces on one rotor, and rear tooth faces on the other rotor. Any lumps of material that still remain oversize, are broken as the rotors chop through the fixed teeth of the breaker bar, thereby achieving a three dimensional controlled product size.\\nThe rotating screen effect: The interlaced toothed rotor design allows free flowing undersize material to pass through the continuously changing gaps generated by the relatively slow moving shafts.\\nThe deep scroll tooth pattern: The deep scroll conveys the larger material to one end of the machine and helps to spread the feed across the full length of the rotors. This feature can also be used to reject oversize material from the machine.\\nTheir primary advantage is a compact geometry and size which is valuable in mining industry, .e.g. in underground hard-rock mining.\\n\\n\\n=== Crusher bucket ===\\n\\nA crusher bucket is an attachment for hydraulic excavators. Its way of working consists on a bucket with two crushing jaws inside, one of them is fixed and the other one moves back and forth relative to it, as in a jaw crusher. They are manufactured with a high inertia power train, circular jaw movement and an anti-stagnation plate, which prevents large shredding pieces from getting stuck in the bucket\\'s mouth, not allowing them to enter the crushing jaws. They have also the crushing jaws placed in a cross position. This position together with its circular motion gives these crusher buckets the faculty of grinding wet material.\\n\\n\\n== Technology ==\\nFor the most part advances in crusher design have moved slowly. Jaw crushers have remained virtually unchanged for sixty years. More reliability and higher production have been added to basic cone crusher designs that have also remained largely unchanged. Increases in rotating speed have provided the largest variation. For instance, a 48-inch (120 cm) cone crusher manufactured in 1960 may be able to produce 170 tons/h of crushed rock, whereas the same size crusher manufactured today may produce 300 tons/h. These production improvements come from speed increases and better crushing chamber designs.\\nThe largest advance in cone crusher reliability has been seen in the use of hydraulics to protect crushers from being damaged when uncrushable objects enter the crushing chamber. Foreign objects, such as steel, can cause extensive damage to a cone crusher, and additional costs in lost production. The advance of hydraulic relief systems has greatly reduced downtime and improved the life of these machines.\\nDue to safety requirements and the weight of the jaws, many companies and OEM providers have produced a suite of lifting tools to safely install and fit these tools into the crusher. In many countries, the lifting tool is mandatory due to legislative and policy-based safety requirements.\\n\\n\\n== See also ==\\n\\nCar crusher\\nCompactor\\nJaques Limited Australian jaw crusher manufacturer\\nMill (grinding)\\nScrap metal shredder\\nStamp mill\\n\\n\\n== References ==\\n\\n\\n== External links =='}\n",
            "{'pageid': 40799663, 'ns': 0, 'title': 'High-frequency vibrating screens', 'extract': 'High-frequency vibrating screens are the most important screening machines primarily utilised in the mineral processing industry. They are used to separate feeds containing solid and crushed ores down to less than 200 μm in size, and are applicable to both perfectly wetted and dried feed. The frequency of the screen is mainly controlled by an electromagnetic vibrator which is mounted above and directly connected to the screening surface. Its high-frequency characteristics differentiate it from a normal vibrating screen. High-frequency vibrating screens usually operate at an inclined angle, traditionally varying between 0° and 25° and can go up to a maximum of 45°. They should operate with a low stroke and have a frequency ranging from 1500 to 9000 RPM. Frequency in High frequency screen can be fixed or variable. Variable High Frequency screen is more versatile to tackle varied material condition like particle size distribution, moisture and have higher efficiency due to incremental increase in frequency. G force plays important role in determining specific screening capacity of screen in terms of TPH per sqm. G force increases exponentially with frequency. \\nPre-treatment of the feed is often required before the use of the high-frequency screen, as the apertures in the screen may become blocked easily.\\n\\n\\n== Range of applications ==\\nHigh frequency screens have become more standardized and widely adopted in materials classification processes. They allow efficient cuts and fines separations, which can provide high purity and precise sizing control of the product (for sizes of fine particles up to 0.074-1.5mm). Common industrial applications include dewatering of materials, processing of powder in coal, ores and minerals, wood pelleting, fractionated reclaimed asphalt pavement, food, pharmaceutical and chemical industry. Fineness of the products and system capacities varies over a huge range between different models, to satisfy individual application requirements. It is also used effectively to process Manufactured sand for size segregation and removal of silt which is 75 microns below. For fine particle removal high G force is desirable and is achieved by higher frequency around 5000 to 6000 rpm.\\n\\n\\n=== Fractionated reclaimed asphalt pavement ===\\nMost commonly, high frequency screens are used to separate \"reclaimed\" asphalt pavement (RAP) into multiple sizes and fractions, which allow producers to take full advantage of the recycled materials. RAP is a recycle material that is reused in new pavement construction; any recycled products are worth as much as what they replace. As compared to conventional screening methods which are limited to producing unacceptable sizes in the products, high frequency screens can produce more efficient sizing to obtain a finer product. Another advantage of using high frequency screens to recycle the reclaimed materials is the available aggregate and oil that can be reused, and reducing the amount of new material required. Therefore, the capital cost for the process is lowered while maintaining a high quality of the asphalt mixture. Moreover, high frequency screen applies intensive vibration directly onto the screen media, such high RPM allows asphalt pavement material to achieve a higher stratification and separate at a faster rate.\\n\\n\\n=== Mineral processing ===\\nIn mineral processing, such as metals ore (e.g. iron, tin, tungsten, tantalum etc.) and nonferrous metals ores (e.g. lead, zinc, gold, silver and industrial sand etc.), high frequency screens have a crucial role. After the ores get comminuted, high frequency screens are used as a classifier which selects materials size that is small enough to enter the next stage for recovery. For example, the closed grinding circuit (e.g. recirculating network with ball mill). Firstly, it screens out the coarse particles and recirculates them back to the grinding mill machine. Secondly, the fine-grained material will be unloaded in a timely manner, avoiding over-crushing caused by re-grinding. The benefits of using high frequency screens in mineral processing can meet the requirement of fineness easily for recovery and is able to achieve a smaller size separation, reducing capacity needed for comminution stage and overall energy consumption. Hence, improving the grade of the final product and providing a better recovery and screening efficiency.\\n\\n\\n== Advantages and limitations ==\\n\\nThe high frequency vibrating screens achieves a high efficiency of separation and differs from its counterparts since it breaks down the surface tension between particles. Also the high level of RPMs contributes to increasing the stratification of material so they separate at a much higher rate. Separation cannot take place without stratification. Furthermore, since the screen vibrates vertically, there is a \\'popcorn effect\\' whereby the coarser particles are lifted higher and finer particles stay closer to the screen, thus increases the probability of separation. In some high frequency vibrating screens the flow rate of the feed can be controlled, this is proportional to the \\'popcorn effect\\'; if the flow rate lowers, the effect is also decreased. Limitations of the high frequency vibrating screen are that the fine screens are very fragile and are susceptible to becoming blocked very easily. Over time the separation efficiency will drop and the screen will need to be replaced.\\nAn alternative to the high frequency vibrating screens is the rotary sifter.  A rotary sifter uses a screen which rotates in a circular motion and the finer particles are sifted through the apertures. It is also generally used for finer separations; between 12mm to 45μm particle size. The rotary sifter will usually be chosen based on the nature of the substance being separated; whey, yeast bread mix, cheese powder, fertilizers. The rotary sifter is often preferred in the non-metallurgical industry and operates in a way to achieve a dust and noise free environment.  The limitation for the rotary sifter is that it cannot handle a high capacity compared to the high frequency vibrating screen. Both equipment, however, achieve a high screening efficiency.\\n\\n\\n== Available designs ==\\nConventional and general design for a high frequency vibrating screen consists of mainframe, screen web, eccentric bock, electric motor, rub spring and coupler. The two most common types of vibrators which induce the high frequency vibrations are hydraulic or electric vibrators, these electric vibrators are either electric motors or solenoids. Common designs for screening decks are either single or double deck. In addition, another feature of high frequency vibrating screens are the static side plates which provide benefits such as smaller support structure, less noise, longer life, and hence less maintenance. In industry, the screens are operated at a tiled angle up till 40 º. The high frequency (1500 – 7200 rpm) and low amplitude (1.2 – 2.0 mm) characteristics leads to the vertical-elliptical movement that rapidly transports oversized particles down the screen. Creating a thin bed of particles, this improves the efficiency and capacity of the screen.\\n\\n\\t\\nStationary screens are typically used in plants and not moved around. In the mineral processing industry, equipment often has to be moved to different sites depending on the jobs taken up by a company. Mobile screens thus are another viable design for companies who have to move their equipment often. These include wheel-mounted and track-mounted plants which allow for easy transportation and movement of the screens. Typical mobile screen designs are shown in the diagrams on the right.\\n\\n\\n== Main process characteristics ==\\nThe screening performance is affected significantly by various factors such as equipment capacity and angle of inclination, in which the performance can be measured by screening efficiency and flux of the product.\\nFlux is defined as the amount of a desired component (undersize material) that has carried over the screening media from the feed per time per unit area. Screening efficiency is expressed as the ratio of the amount of material that actually passes through the aperture, divided by the amount in the feed that theoretically should pass. Commercially perfect screening is considered to be 95% efficient   if the process is operated with appropriate feed concentration and size particles. Generally, a suitable particle size difference between sieving and feed should be no more than 30%. High screening efficiency can reduce the qualified gain content in cyclic loading and screening and thus increasing the processing capacity of the mill.\\nThe equipment capacity is almost directly proportional to screen width. This means that by increasing the length, there will be additional chances for passage, and will usually lead to increase in transmission and efficiency. In general, the standard size of screen length should be two to three times the width. However, certain special situations such as restricted space may require a different design.\\nAngle of inclination can be designed based on the desired mineral grain. For example, wet sieving angle is generally around 25 ± 2 ° for concentrator. Increasing the slope of a screen will effectively reduce the aperture by the cosine of the angle of inclination. At the same time, the materials also move across the screen faster which leads to more rapid stratification. However, the performance tends to decrease after a certain point since the slope of the deck is too high and most particles will remain on the oversized stream instead of passing through the aperture, thus, lower flux is yielded.\\nTable below presents relationship between inclined angle with desired product flux and efficiency.\\n\\n\\n== Characteristics assessment ==\\n\\n\\n=== Screen movement ===\\n\\nThe purpose of the vibrating screen is that particles are introduced to the gaps in the screens repeatedly. The frequency of the screen must be high enough so that it prevents the particles from blocking the apertures and the maximum height of the particle trajectory should occur when the screen surface is at its lowest point. Based on the principle, there is an optimum frequency and amplitude of vibration \\nTransmission refers to the fraction of desired particle that passes through the apertures in the screen. At low frequency, screening efficiency is high but blinding is severe. Blinding will decrease as frequency increases but the particles will have difficulty going through the apertures. When designing a high frequency vibrating screen, an optimum point of frequency and amplitude must be chosen, depending on the specific applications.\\n\\n\\n=== Separation efficiency ===\\nThe separation efficiency is simply a measure of the amount of material removed by the screen compared to the theoretical amount that should have been removed. Screen efficiency can be obtained using different equation, which depends on whether the desired product is the oversize or undersize fraction from the screen.\\nThe screen efficiency based on the oversize (Eo) is given by: \\n\\n  \\n    \\n      \\n        \\n          E\\n          \\n            o\\n          \\n        \\n        =\\n        \\n          \\n            \\n              \\n                Q\\n                \\n                  m\\n                  s\\n                \\n              \\n              (\\n              o\\n              )\\n              \\n              [\\n              1\\n              −\\n              \\n                M\\n                \\n                  u\\n                \\n              \\n              (\\n              o\\n              )\\n              ]\\n            \\n            \\n              \\n                Q\\n                \\n                  m\\n                  s\\n                \\n              \\n              (\\n              f\\n              )\\n              \\n              [\\n              1\\n              −\\n              \\n                M\\n                \\n                  u\\n                \\n              \\n              (\\n              f\\n              )\\n              ]\\n            \\n          \\n        \\n      \\n    \\n    {\\\\displaystyle E_{o}={\\\\frac {Q_{ms}(o)\\\\;[1-M_{u}(o)]}{Q_{ms}(f)\\\\;[1-M_{u}(f)]}}}\\n  \\n\\nThe screen efficiency based on the undersize (Eu) is then given by:\\n\\n  \\n    \\n      \\n        \\n          E\\n          \\n            u\\n          \\n        \\n        =\\n        \\n          \\n            \\n              \\n                Q\\n                \\n                  m\\n                  s\\n                \\n              \\n              (\\n              u\\n              )\\n              \\n              \\n                M\\n                \\n                  u\\n                \\n              \\n              (\\n              u\\n              )\\n            \\n            \\n              \\n                Q\\n                \\n                  m\\n                  s\\n                \\n              \\n              (\\n              f\\n              )\\n              \\n              \\n                M\\n                \\n                  u\\n                \\n              \\n              (\\n              f\\n              )\\n            \\n          \\n        \\n      \\n    \\n    {\\\\displaystyle E_{u}={\\\\frac {Q_{ms}(u)\\\\;M_{u}(u)}{Q_{ms}(f)\\\\;M_{u}(f)}}}\\n  \\n\\nwhere Qms(o) is the mass flow rate of solid in the screen overflow, Qms(f) is the mass flow rate of solid feed, Qms(u) is the mass flow rate of solid in the screen underflow, Mu(o) is the mass fraction of undersize in the overflow, Mu(f) is the mass fraction of undersize in the feed, Mu(u) is the mass fraction of undersize in the underflow.\\nThe overall efficiency (E) is given by:\\n\\n  \\n    \\n      \\n        E\\n        =\\n        \\n          E\\n          \\n            o\\n          \\n        \\n        \\n        \\n          E\\n          \\n            u\\n          \\n        \\n      \\n    \\n    {\\\\displaystyle E=E_{o}\\\\;E_{u}}\\n  \\n\\n\\n== Possible heuristics to be used during design of the process ==\\nIn the process of sizing minerals there are often rules of thumbs that need to be followed in order to achieve maximum efficiency in the separation.\\n\\n\\n=== Screen selection ===\\nThe selection on the screen type will be based on the materials that the equipment will be used to process. A significant problem occurs with screens because if the screen is not suitable for the material fed to the screen, the materials will blind the apertures and regular maintenance will be required. Different types of screens have been developed to counter this problem. An example is the \"self-cleaning\" wire; these wires are free to vibrate and so resistance to blinding will increase. The particles will be shaken off the wires and apertures. However, there will be a trade-off with screening efficiency.\\n\\n\\n=== Pre-treatment of feed ===\\nThe high frequency vibrating screens will often be used as a secondary screener as its purpose is to separate the finer minerals. This not only ensures good separation efficiency, it will also help to maintain the life-time of the screen. Blinding can occur significantly if particle sizes are not within the screens\\' designed criteria.\\nAnother problem that is often encountered is that the particles clump together due to moisture. This clumping will result in undesired increase in effective particle size, with the result that the clumped particles are not allowed to pass through the apertures into the product stream. It is recommended that screening at less than around 5mm aperture size is normally performed on perfectly dry materials. A heated screen deck may be used to evaporate the moisture in the feed. It will also break the surface tension between the screen wire and the particles. An alternative is to run the feed through a dryer before entering the high frequency vibrating screen.\\n\\n\\n== Post-treatment systems ==\\nHigh frequency vibrating screens are widely used in many industrial process, thus there will be high quantity of waste product released into the environment. It is important that these waste streams are treated, since the untreated waste will cause damage to the environment over a sustained period of time.\\nAn established post-treatment system is classification processing. In this system, the waste streams are separated into different types of waste materials. The types of waste materials are classified into recyclable materials, hazardous materials, organic materials, inorganic materials. Generally, waste materials are separated using mechanical separation and manual separation. Mechanical separations are used for separating metals and other materials that may be harmful to the environment, and also to prepare the waste stream for manual separations. Manual separation have two types of sorting which are positive sorting and negative sorting. Positive sorting collects reusable waste such as recyclable and organic materials while negative sorting collects unusable waste such as hazardous and inorganic materials. After this separation process, the recyclable materials are transferred for reuse. The organic wastes are often treated using chemical processes (e.g. combustion, pyrolysis etc.) or biological treatment (microbial decomposition). The products obtained from these waste organic materials are in the form of Refuse-Derived Fuel. RDF can be used in many ways to generate electricity or even used along with traditional sources of fuel in coal power plants. The rest of the hazardous and unwanted inorganic wastes are transferred to landfill to be disposed. These post-treatment processes are crucial to sustain the environment.\\n\\n\\n== New development ==\\n\\n\\n=== Screen improvements ===\\nThe research on high frequency screens has led to new developments in the field which enhance the operation and performance of the equipment. These new developments include the stacking of up to 5 individual screen decks placed on top of the other and operating in parallel. A divider system splits the feed slurry to each Stack Sizer screen, then to each screen deck on the machine. Each screen deck has an undersize and oversize collection pan which will respectively go into their common outlet. The stacking of the machines thus allows more production while using less space. Another new development is the fabrication of Polyweb urethane screen surfaces that have openings as fine as 45 μm and open areas from 35% - 45%. This leads to the screen being able to separate finer particles. The screens can be used for both wet and dry applications and urethane formulation is still an ongoing process. Thus, research and development is still being invested in high frequency screening equipment to improve the overall separation efficiency and also to lower costs.\\n\\n\\n=== Mechanical part modifications ===\\nTo further optimize the performance for high frequency vibrating equipment, a \"variable speed\" hydraulic vibrator is being developed and used to drive the screen decks. It utilizes fluid hydraulic force which then can be converted into rotary power in order to generate high frequency vibration. This modification allows equipment to operate at higher frequency range, up to 8200 RPM, compared to the conventional electric vibrators. Special Electric vibrator motors are also used to have variable frequency ranging from 3000 to 9000 rpm and have proved to be more efficient and trouble free with less maintenance. Besides that, the induced vibration also creates an excellent condition for separating finer particles and improves the contacting probability for the materials. Another variation that could be applied to the equipment is the \"rotary tensioning system\", in which it helps to provide a quicker screen media change. Therefore, multiple applications can be achieved by single equipment, as with different size of feed material can be deal by replacing screens in a very small downtime. Hence, it improves the economic benefits of plants.\\nOne important change is multi-slope deck in high frequency screen making it more efficient with incremental throughput and efficiency in same screening area.\\n\\n\\n== References ==\\n\\nVIBFEM'}\n",
            "{'pageid': 7178598, 'ns': 0, 'title': 'Thyssenkrupp', 'extract': ''}\n"
          ]
        }
      ]
    },
    {
      "cell_type": "code",
      "source": [
        "# Load all wiki documents\n",
        "city_docs = {}\n",
        "for wiki_title in wiki_titles:\n",
        "    city_docs[wiki_title] = SimpleDirectoryReader(\n",
        "        input_files=[f\"{data_wiki_path}/{wiki_title}.txt\"]\n",
        "    ).load_data()"
      ],
      "metadata": {
        "id": "3Sbv2aEsczAi"
      },
      "execution_count": null,
      "outputs": []
    },
    {
      "cell_type": "code",
      "source": [],
      "metadata": {
        "id": "v_jwkUoppr69"
      },
      "execution_count": null,
      "outputs": []
    },
    {
      "cell_type": "markdown",
      "source": [
        "### load csv excel using pandas"
      ],
      "metadata": {
        "id": "43Of6H7KpsVZ"
      }
    },
    {
      "cell_type": "code",
      "source": [
        "summary_csv_path = \"data/Crusher_data.csv\""
      ],
      "metadata": {
        "id": "fW885gkHpr4S"
      },
      "execution_count": null,
      "outputs": []
    },
    {
      "cell_type": "code",
      "source": [
        "df = pd.read_csv(summary_csv_path)"
      ],
      "metadata": {
        "id": "GqcIYVyrcgJx"
      },
      "execution_count": null,
      "outputs": []
    },
    {
      "cell_type": "code",
      "source": [
        "df"
      ],
      "metadata": {
        "colab": {
          "base_uri": "https://localhost:8080/",
          "height": 459
        },
        "id": "QIoUs_djqFfg",
        "outputId": "c2b4725d-2849-495d-fd4f-a65119bd02a7"
      },
      "execution_count": null,
      "outputs": [
        {
          "output_type": "execute_result",
          "data": {
            "text/plain": [
              "       Hersteller          Typenbezeichnung Durchsatz min [t/h]  \\\n",
              "0             NaN                       NaN                min.   \n",
              "1             NaN                       NaN               [t/h]   \n",
              "2           Beyer                       NaN                 NaN   \n",
              "3     Brechanlage                       NaN                 NaN   \n",
              "4             NaN                    KB 500                 NaN   \n",
              "...           ...                       ...                 ...   \n",
              "1367          NaN       WB 2000/1800 - 2800                 NaN   \n",
              "1368          NaN         WB 800/600 - 1600                 NaN   \n",
              "1369          NaN                       NaN                 NaN   \n",
              "1370          NaN                       NaN                 NaN   \n",
              "1371          NaN  Unterschieden Materialen                 NaN   \n",
              "\n",
              "     Durchsatz max [t/h] Durchsatz min [m³/h] Durchsatz max [m³/h]  \\\n",
              "0                   max.                  NaN                 max.   \n",
              "1                   [mm]                  NaN                [t/h]   \n",
              "2                    NaN                  NaN                  NaN   \n",
              "3                    NaN                  NaN                  NaN   \n",
              "4                    NaN                  NaN                   20   \n",
              "...                  ...                  ...                  ...   \n",
              "1367                 NaN                  NaN                  NaN   \n",
              "1368                 NaN                  NaN                  NaN   \n",
              "1369                 NaN                  NaN                  NaN   \n",
              "1370                 NaN                  NaN                  NaN   \n",
              "1371                 NaN                  NaN                  NaN   \n",
              "\n",
              "     Leistung min [kW] Leistung max [kW]  \n",
              "0                 min.              max.  \n",
              "1                 [kW]               NaN  \n",
              "2                  NaN               NaN  \n",
              "3                  NaN               NaN  \n",
              "4                  NaN                22  \n",
              "...                ...               ...  \n",
              "1367               440               NaN  \n",
              "1368                44               NaN  \n",
              "1369               NaN               NaN  \n",
              "1370               NaN               NaN  \n",
              "1371               NaN               NaN  \n",
              "\n",
              "[1372 rows x 8 columns]"
            ],
            "text/html": [
              "\n",
              "  <div id=\"df-154aef14-8e84-457e-8874-2dc9bf5b9538\" class=\"colab-df-container\">\n",
              "    <div>\n",
              "<style scoped>\n",
              "    .dataframe tbody tr th:only-of-type {\n",
              "        vertical-align: middle;\n",
              "    }\n",
              "\n",
              "    .dataframe tbody tr th {\n",
              "        vertical-align: top;\n",
              "    }\n",
              "\n",
              "    .dataframe thead th {\n",
              "        text-align: right;\n",
              "    }\n",
              "</style>\n",
              "<table border=\"1\" class=\"dataframe\">\n",
              "  <thead>\n",
              "    <tr style=\"text-align: right;\">\n",
              "      <th></th>\n",
              "      <th>Hersteller</th>\n",
              "      <th>Typenbezeichnung</th>\n",
              "      <th>Durchsatz min [t/h]</th>\n",
              "      <th>Durchsatz max [t/h]</th>\n",
              "      <th>Durchsatz min [m³/h]</th>\n",
              "      <th>Durchsatz max [m³/h]</th>\n",
              "      <th>Leistung min [kW]</th>\n",
              "      <th>Leistung max [kW]</th>\n",
              "    </tr>\n",
              "  </thead>\n",
              "  <tbody>\n",
              "    <tr>\n",
              "      <th>0</th>\n",
              "      <td>NaN</td>\n",
              "      <td>NaN</td>\n",
              "      <td>min.</td>\n",
              "      <td>max.</td>\n",
              "      <td>NaN</td>\n",
              "      <td>max.</td>\n",
              "      <td>min.</td>\n",
              "      <td>max.</td>\n",
              "    </tr>\n",
              "    <tr>\n",
              "      <th>1</th>\n",
              "      <td>NaN</td>\n",
              "      <td>NaN</td>\n",
              "      <td>[t/h]</td>\n",
              "      <td>[mm]</td>\n",
              "      <td>NaN</td>\n",
              "      <td>[t/h]</td>\n",
              "      <td>[kW]</td>\n",
              "      <td>NaN</td>\n",
              "    </tr>\n",
              "    <tr>\n",
              "      <th>2</th>\n",
              "      <td>Beyer</td>\n",
              "      <td>NaN</td>\n",
              "      <td>NaN</td>\n",
              "      <td>NaN</td>\n",
              "      <td>NaN</td>\n",
              "      <td>NaN</td>\n",
              "      <td>NaN</td>\n",
              "      <td>NaN</td>\n",
              "    </tr>\n",
              "    <tr>\n",
              "      <th>3</th>\n",
              "      <td>Brechanlage</td>\n",
              "      <td>NaN</td>\n",
              "      <td>NaN</td>\n",
              "      <td>NaN</td>\n",
              "      <td>NaN</td>\n",
              "      <td>NaN</td>\n",
              "      <td>NaN</td>\n",
              "      <td>NaN</td>\n",
              "    </tr>\n",
              "    <tr>\n",
              "      <th>4</th>\n",
              "      <td>NaN</td>\n",
              "      <td>KB 500</td>\n",
              "      <td>NaN</td>\n",
              "      <td>NaN</td>\n",
              "      <td>NaN</td>\n",
              "      <td>20</td>\n",
              "      <td>NaN</td>\n",
              "      <td>22</td>\n",
              "    </tr>\n",
              "    <tr>\n",
              "      <th>...</th>\n",
              "      <td>...</td>\n",
              "      <td>...</td>\n",
              "      <td>...</td>\n",
              "      <td>...</td>\n",
              "      <td>...</td>\n",
              "      <td>...</td>\n",
              "      <td>...</td>\n",
              "      <td>...</td>\n",
              "    </tr>\n",
              "    <tr>\n",
              "      <th>1367</th>\n",
              "      <td>NaN</td>\n",
              "      <td>WB 2000/1800 - 2800</td>\n",
              "      <td>NaN</td>\n",
              "      <td>NaN</td>\n",
              "      <td>NaN</td>\n",
              "      <td>NaN</td>\n",
              "      <td>440</td>\n",
              "      <td>NaN</td>\n",
              "    </tr>\n",
              "    <tr>\n",
              "      <th>1368</th>\n",
              "      <td>NaN</td>\n",
              "      <td>WB 800/600 - 1600</td>\n",
              "      <td>NaN</td>\n",
              "      <td>NaN</td>\n",
              "      <td>NaN</td>\n",
              "      <td>NaN</td>\n",
              "      <td>44</td>\n",
              "      <td>NaN</td>\n",
              "    </tr>\n",
              "    <tr>\n",
              "      <th>1369</th>\n",
              "      <td>NaN</td>\n",
              "      <td>NaN</td>\n",
              "      <td>NaN</td>\n",
              "      <td>NaN</td>\n",
              "      <td>NaN</td>\n",
              "      <td>NaN</td>\n",
              "      <td>NaN</td>\n",
              "      <td>NaN</td>\n",
              "    </tr>\n",
              "    <tr>\n",
              "      <th>1370</th>\n",
              "      <td>NaN</td>\n",
              "      <td>NaN</td>\n",
              "      <td>NaN</td>\n",
              "      <td>NaN</td>\n",
              "      <td>NaN</td>\n",
              "      <td>NaN</td>\n",
              "      <td>NaN</td>\n",
              "      <td>NaN</td>\n",
              "    </tr>\n",
              "    <tr>\n",
              "      <th>1371</th>\n",
              "      <td>NaN</td>\n",
              "      <td>Unterschieden Materialen</td>\n",
              "      <td>NaN</td>\n",
              "      <td>NaN</td>\n",
              "      <td>NaN</td>\n",
              "      <td>NaN</td>\n",
              "      <td>NaN</td>\n",
              "      <td>NaN</td>\n",
              "    </tr>\n",
              "  </tbody>\n",
              "</table>\n",
              "<p>1372 rows × 8 columns</p>\n",
              "</div>\n",
              "    <div class=\"colab-df-buttons\">\n",
              "\n",
              "  <div class=\"colab-df-container\">\n",
              "    <button class=\"colab-df-convert\" onclick=\"convertToInteractive('df-154aef14-8e84-457e-8874-2dc9bf5b9538')\"\n",
              "            title=\"Convert this dataframe to an interactive table.\"\n",
              "            style=\"display:none;\">\n",
              "\n",
              "  <svg xmlns=\"http://www.w3.org/2000/svg\" height=\"24px\" viewBox=\"0 -960 960 960\">\n",
              "    <path d=\"M120-120v-720h720v720H120Zm60-500h600v-160H180v160Zm220 220h160v-160H400v160Zm0 220h160v-160H400v160ZM180-400h160v-160H180v160Zm440 0h160v-160H620v160ZM180-180h160v-160H180v160Zm440 0h160v-160H620v160Z\"/>\n",
              "  </svg>\n",
              "    </button>\n",
              "\n",
              "  <style>\n",
              "    .colab-df-container {\n",
              "      display:flex;\n",
              "      gap: 12px;\n",
              "    }\n",
              "\n",
              "    .colab-df-convert {\n",
              "      background-color: #E8F0FE;\n",
              "      border: none;\n",
              "      border-radius: 50%;\n",
              "      cursor: pointer;\n",
              "      display: none;\n",
              "      fill: #1967D2;\n",
              "      height: 32px;\n",
              "      padding: 0 0 0 0;\n",
              "      width: 32px;\n",
              "    }\n",
              "\n",
              "    .colab-df-convert:hover {\n",
              "      background-color: #E2EBFA;\n",
              "      box-shadow: 0px 1px 2px rgba(60, 64, 67, 0.3), 0px 1px 3px 1px rgba(60, 64, 67, 0.15);\n",
              "      fill: #174EA6;\n",
              "    }\n",
              "\n",
              "    .colab-df-buttons div {\n",
              "      margin-bottom: 4px;\n",
              "    }\n",
              "\n",
              "    [theme=dark] .colab-df-convert {\n",
              "      background-color: #3B4455;\n",
              "      fill: #D2E3FC;\n",
              "    }\n",
              "\n",
              "    [theme=dark] .colab-df-convert:hover {\n",
              "      background-color: #434B5C;\n",
              "      box-shadow: 0px 1px 3px 1px rgba(0, 0, 0, 0.15);\n",
              "      filter: drop-shadow(0px 1px 2px rgba(0, 0, 0, 0.3));\n",
              "      fill: #FFFFFF;\n",
              "    }\n",
              "  </style>\n",
              "\n",
              "    <script>\n",
              "      const buttonEl =\n",
              "        document.querySelector('#df-154aef14-8e84-457e-8874-2dc9bf5b9538 button.colab-df-convert');\n",
              "      buttonEl.style.display =\n",
              "        google.colab.kernel.accessAllowed ? 'block' : 'none';\n",
              "\n",
              "      async function convertToInteractive(key) {\n",
              "        const element = document.querySelector('#df-154aef14-8e84-457e-8874-2dc9bf5b9538');\n",
              "        const dataTable =\n",
              "          await google.colab.kernel.invokeFunction('convertToInteractive',\n",
              "                                                    [key], {});\n",
              "        if (!dataTable) return;\n",
              "\n",
              "        const docLinkHtml = 'Like what you see? Visit the ' +\n",
              "          '<a target=\"_blank\" href=https://colab.research.google.com/notebooks/data_table.ipynb>data table notebook</a>'\n",
              "          + ' to learn more about interactive tables.';\n",
              "        element.innerHTML = '';\n",
              "        dataTable['output_type'] = 'display_data';\n",
              "        await google.colab.output.renderOutput(dataTable, element);\n",
              "        const docLink = document.createElement('div');\n",
              "        docLink.innerHTML = docLinkHtml;\n",
              "        element.appendChild(docLink);\n",
              "      }\n",
              "    </script>\n",
              "  </div>\n",
              "\n",
              "\n",
              "<div id=\"df-f4ab4b59-e495-405b-a2f7-8109c94856c5\">\n",
              "  <button class=\"colab-df-quickchart\" onclick=\"quickchart('df-f4ab4b59-e495-405b-a2f7-8109c94856c5')\"\n",
              "            title=\"Suggest charts\"\n",
              "            style=\"display:none;\">\n",
              "\n",
              "<svg xmlns=\"http://www.w3.org/2000/svg\" height=\"24px\"viewBox=\"0 0 24 24\"\n",
              "     width=\"24px\">\n",
              "    <g>\n",
              "        <path d=\"M19 3H5c-1.1 0-2 .9-2 2v14c0 1.1.9 2 2 2h14c1.1 0 2-.9 2-2V5c0-1.1-.9-2-2-2zM9 17H7v-7h2v7zm4 0h-2V7h2v10zm4 0h-2v-4h2v4z\"/>\n",
              "    </g>\n",
              "</svg>\n",
              "  </button>\n",
              "\n",
              "<style>\n",
              "  .colab-df-quickchart {\n",
              "      --bg-color: #E8F0FE;\n",
              "      --fill-color: #1967D2;\n",
              "      --hover-bg-color: #E2EBFA;\n",
              "      --hover-fill-color: #174EA6;\n",
              "      --disabled-fill-color: #AAA;\n",
              "      --disabled-bg-color: #DDD;\n",
              "  }\n",
              "\n",
              "  [theme=dark] .colab-df-quickchart {\n",
              "      --bg-color: #3B4455;\n",
              "      --fill-color: #D2E3FC;\n",
              "      --hover-bg-color: #434B5C;\n",
              "      --hover-fill-color: #FFFFFF;\n",
              "      --disabled-bg-color: #3B4455;\n",
              "      --disabled-fill-color: #666;\n",
              "  }\n",
              "\n",
              "  .colab-df-quickchart {\n",
              "    background-color: var(--bg-color);\n",
              "    border: none;\n",
              "    border-radius: 50%;\n",
              "    cursor: pointer;\n",
              "    display: none;\n",
              "    fill: var(--fill-color);\n",
              "    height: 32px;\n",
              "    padding: 0;\n",
              "    width: 32px;\n",
              "  }\n",
              "\n",
              "  .colab-df-quickchart:hover {\n",
              "    background-color: var(--hover-bg-color);\n",
              "    box-shadow: 0 1px 2px rgba(60, 64, 67, 0.3), 0 1px 3px 1px rgba(60, 64, 67, 0.15);\n",
              "    fill: var(--button-hover-fill-color);\n",
              "  }\n",
              "\n",
              "  .colab-df-quickchart-complete:disabled,\n",
              "  .colab-df-quickchart-complete:disabled:hover {\n",
              "    background-color: var(--disabled-bg-color);\n",
              "    fill: var(--disabled-fill-color);\n",
              "    box-shadow: none;\n",
              "  }\n",
              "\n",
              "  .colab-df-spinner {\n",
              "    border: 2px solid var(--fill-color);\n",
              "    border-color: transparent;\n",
              "    border-bottom-color: var(--fill-color);\n",
              "    animation:\n",
              "      spin 1s steps(1) infinite;\n",
              "  }\n",
              "\n",
              "  @keyframes spin {\n",
              "    0% {\n",
              "      border-color: transparent;\n",
              "      border-bottom-color: var(--fill-color);\n",
              "      border-left-color: var(--fill-color);\n",
              "    }\n",
              "    20% {\n",
              "      border-color: transparent;\n",
              "      border-left-color: var(--fill-color);\n",
              "      border-top-color: var(--fill-color);\n",
              "    }\n",
              "    30% {\n",
              "      border-color: transparent;\n",
              "      border-left-color: var(--fill-color);\n",
              "      border-top-color: var(--fill-color);\n",
              "      border-right-color: var(--fill-color);\n",
              "    }\n",
              "    40% {\n",
              "      border-color: transparent;\n",
              "      border-right-color: var(--fill-color);\n",
              "      border-top-color: var(--fill-color);\n",
              "    }\n",
              "    60% {\n",
              "      border-color: transparent;\n",
              "      border-right-color: var(--fill-color);\n",
              "    }\n",
              "    80% {\n",
              "      border-color: transparent;\n",
              "      border-right-color: var(--fill-color);\n",
              "      border-bottom-color: var(--fill-color);\n",
              "    }\n",
              "    90% {\n",
              "      border-color: transparent;\n",
              "      border-bottom-color: var(--fill-color);\n",
              "    }\n",
              "  }\n",
              "</style>\n",
              "\n",
              "  <script>\n",
              "    async function quickchart(key) {\n",
              "      const quickchartButtonEl =\n",
              "        document.querySelector('#' + key + ' button');\n",
              "      quickchartButtonEl.disabled = true;  // To prevent multiple clicks.\n",
              "      quickchartButtonEl.classList.add('colab-df-spinner');\n",
              "      try {\n",
              "        const charts = await google.colab.kernel.invokeFunction(\n",
              "            'suggestCharts', [key], {});\n",
              "      } catch (error) {\n",
              "        console.error('Error during call to suggestCharts:', error);\n",
              "      }\n",
              "      quickchartButtonEl.classList.remove('colab-df-spinner');\n",
              "      quickchartButtonEl.classList.add('colab-df-quickchart-complete');\n",
              "    }\n",
              "    (() => {\n",
              "      let quickchartButtonEl =\n",
              "        document.querySelector('#df-f4ab4b59-e495-405b-a2f7-8109c94856c5 button');\n",
              "      quickchartButtonEl.style.display =\n",
              "        google.colab.kernel.accessAllowed ? 'block' : 'none';\n",
              "    })();\n",
              "  </script>\n",
              "</div>\n",
              "    </div>\n",
              "  </div>\n"
            ],
            "application/vnd.google.colaboratory.intrinsic+json": {
              "type": "dataframe",
              "variable_name": "df",
              "summary": "{\n  \"name\": \"df\",\n  \"rows\": 1372,\n  \"fields\": [\n    {\n      \"column\": \"Hersteller\",\n      \"properties\": {\n        \"dtype\": \"category\",\n        \"num_unique_values\": 133,\n        \"samples\": [\n          \"Vortex\",\n          \"Station\\u00e4re Hammerbrecher\",\n          \"Mobile Kegelbrecher\"\n        ],\n        \"semantic_type\": \"\",\n        \"description\": \"\"\n      }\n    },\n    {\n      \"column\": \"Typenbezeichnung\",\n      \"properties\": {\n        \"dtype\": \"string\",\n        \"num_unique_values\": 978,\n        \"samples\": [\n          \"MR 130 R\",\n          \"HP 400\",\n          \"GIPOREC R 100 C /FDR\"\n        ],\n        \"semantic_type\": \"\",\n        \"description\": \"\"\n      }\n    },\n    {\n      \"column\": \"Durchsatz min [t/h]\",\n      \"properties\": {\n        \"dtype\": \"category\",\n        \"num_unique_values\": 140,\n        \"samples\": [\n          \"425\",\n          \"152\",\n          \"330\"\n        ],\n        \"semantic_type\": \"\",\n        \"description\": \"\"\n      }\n    },\n    {\n      \"column\": \"Durchsatz max [t/h]\",\n      \"properties\": {\n        \"dtype\": \"category\",\n        \"num_unique_values\": 147,\n        \"samples\": [\n          \"950\",\n          \"40\",\n          \"34\"\n        ],\n        \"semantic_type\": \"\",\n        \"description\": \"\"\n      }\n    },\n    {\n      \"column\": \"Durchsatz min [m\\u00b3/h]\",\n      \"properties\": {\n        \"dtype\": \"category\",\n        \"num_unique_values\": 74,\n        \"samples\": [\n          \"140.625\",\n          \"59.375\",\n          \"118.75\"\n        ],\n        \"semantic_type\": \"\",\n        \"description\": \"\"\n      }\n    },\n    {\n      \"column\": \"Durchsatz max [m\\u00b3/h]\",\n      \"properties\": {\n        \"dtype\": \"category\",\n        \"num_unique_values\": 269,\n        \"samples\": [\n          \"1700\",\n          \"656\",\n          \"790\"\n        ],\n        \"semantic_type\": \"\",\n        \"description\": \"\"\n      }\n    },\n    {\n      \"column\": \"Leistung min [kW]\",\n      \"properties\": {\n        \"dtype\": \"category\",\n        \"num_unique_values\": 60,\n        \"samples\": [\n          \"min.\",\n          \"200\",\n          \"750\"\n        ],\n        \"semantic_type\": \"\",\n        \"description\": \"\"\n      }\n    },\n    {\n      \"column\": \"Leistung max [kW]\",\n      \"properties\": {\n        \"dtype\": \"category\",\n        \"num_unique_values\": 173,\n        \"samples\": [\n          \"80\",\n          \"172\",\n          \"350\"\n        ],\n        \"semantic_type\": \"\",\n        \"description\": \"\"\n      }\n    }\n  ]\n}"
            }
          },
          "metadata": {},
          "execution_count": 24
        }
      ]
    },
    {
      "cell_type": "markdown",
      "source": [
        "### load all files in directory"
      ],
      "metadata": {
        "id": "-QQwTYdasGu-"
      }
    },
    {
      "cell_type": "code",
      "source": [
        "# only load markdown files\n",
        "required_exts = [\".csv\", \".pdf\", \"xlsx\"]\n",
        "\n",
        "reader = SimpleDirectoryReader(\n",
        "    input_dir=\"data\",\n",
        "    # required_exts=required_exts,\n",
        "    recursive=True,\n",
        ")"
      ],
      "metadata": {
        "id": "0mYxaqaVsGeg"
      },
      "execution_count": null,
      "outputs": []
    },
    {
      "cell_type": "code",
      "source": [
        "docs = reader.load_data()\n",
        "print(f\"Loaded {len(docs)} docs\")"
      ],
      "metadata": {
        "colab": {
          "base_uri": "https://localhost:8080/"
        },
        "id": "lwumnjPksGcG",
        "outputId": "8f0efb2e-65a1-4a0d-b379-af4f4ab06158"
      },
      "execution_count": null,
      "outputs": [
        {
          "output_type": "stream",
          "name": "stdout",
          "text": [
            "Loaded 4 docs\n"
          ]
        }
      ]
    },
    {
      "cell_type": "code",
      "source": [],
      "metadata": {
        "id": "izb1pgYmsGWi"
      },
      "execution_count": null,
      "outputs": []
    },
    {
      "cell_type": "code",
      "source": [],
      "metadata": {
        "id": "mu6ebrnqsGUI"
      },
      "execution_count": null,
      "outputs": []
    },
    {
      "cell_type": "markdown",
      "source": [
        "## define the global models and embeddings"
      ],
      "metadata": {
        "id": "xZtz2xcccgnB"
      }
    },
    {
      "cell_type": "code",
      "source": [
        "import os\n",
        "\n",
        "os.environ[\"OPENAI_API_KEY\"] = \"sk-XXXXXXXXXXXXXXXXXXXXXXXXXXXXXXf\""
      ],
      "metadata": {
        "id": "POvwKu0jcgHJ"
      },
      "execution_count": null,
      "outputs": []
    },
    {
      "cell_type": "code",
      "source": [
        "from llama_index.llms.openai import OpenAI\n",
        "from llama_index.embeddings.openai import OpenAIEmbedding\n",
        "from llama_index.core import Settings\n",
        "\n",
        "Settings.llm = OpenAI(temperature=0, model=\"gpt-3.5-turbo\")\n",
        "Settings.embed_model = OpenAIEmbedding(model=\"text-embedding-ada-002\")"
      ],
      "metadata": {
        "id": "IZg2xKd_cgEa"
      },
      "execution_count": null,
      "outputs": []
    },
    {
      "cell_type": "code",
      "source": [
        "import logging\n",
        "import sys\n",
        "from IPython.display import Markdown, display\n",
        "\n",
        "import pandas as pd\n",
        "from llama_index.experimental.query_engine import PandasQueryEngine\n",
        "# from llama_index.pandas_query_engine import PandasQueryEngine\n",
        "\n",
        "logging.basicConfig(stream=sys.stdout, level=logging.INFO)\n",
        "logging.getLogger().addHandler(logging.StreamHandler(stream=sys.stdout))"
      ],
      "metadata": {
        "id": "dG6IMEIUe3Pl"
      },
      "execution_count": null,
      "outputs": []
    },
    {
      "cell_type": "code",
      "source": [],
      "metadata": {
        "id": "5umRajNDrqNB"
      },
      "execution_count": null,
      "outputs": []
    },
    {
      "cell_type": "code",
      "source": [],
      "metadata": {
        "id": "whTqen6xrpn9"
      },
      "execution_count": null,
      "outputs": []
    },
    {
      "cell_type": "code",
      "source": [
        "# defining again here\n",
        "summary_csv_path = \"data/Crusher_data.csv\"\n",
        "df = pd.read_csv(summary_csv_path)"
      ],
      "metadata": {
        "id": "BvnZLjSrqLaL"
      },
      "execution_count": null,
      "outputs": []
    },
    {
      "cell_type": "code",
      "source": [
        "query_engine = PandasQueryEngine(df=df, verbose=True)"
      ],
      "metadata": {
        "id": "F3btpXu8pNDM"
      },
      "execution_count": null,
      "outputs": []
    },
    {
      "cell_type": "code",
      "source": [
        "response = query_engine.query(\n",
        "    \"which types have throughput of 50 t/h\",\n",
        ")"
      ],
      "metadata": {
        "colab": {
          "base_uri": "https://localhost:8080/"
        },
        "id": "vP-C6nZUqUQZ",
        "outputId": "f0fadba5-4dda-49f6-9bf0-cd3b95ed8ed8"
      },
      "execution_count": null,
      "outputs": [
        {
          "output_type": "stream",
          "name": "stdout",
          "text": [
            "> Pandas Instructions:\n",
            "```\n",
            "df[(df['Durchsatz min [t/h]'] == 50) | (df['Durchsatz max [t/h]'] == 50)]\n",
            "```\n",
            "> Pandas Output: Empty DataFrame\n",
            "Columns: [Hersteller, Typenbezeichnung, Durchsatz min [t/h], Durchsatz max [t/h], Durchsatz min [m³/h], Durchsatz max [m³/h], Leistung min [kW], Leistung max [kW]]\n",
            "Index: []\n"
          ]
        }
      ]
    },
    {
      "cell_type": "code",
      "source": [],
      "metadata": {
        "id": "f9kb7owb4ju8"
      },
      "execution_count": null,
      "outputs": []
    },
    {
      "cell_type": "code",
      "source": [],
      "metadata": {
        "id": "-9NMR3I14jfU"
      },
      "execution_count": null,
      "outputs": []
    },
    {
      "cell_type": "markdown",
      "source": [
        "#### load documents from local directory"
      ],
      "metadata": {
        "id": "xvQaxKs-4kLv"
      }
    },
    {
      "cell_type": "code",
      "source": [
        "documents = SimpleDirectoryReader(\"data\").load_data()"
      ],
      "metadata": {
        "id": "UWxMk80eqouz"
      },
      "execution_count": null,
      "outputs": []
    },
    {
      "cell_type": "code",
      "source": [
        "print(f\"Loaded {len(documents)} docs\")"
      ],
      "metadata": {
        "colab": {
          "base_uri": "https://localhost:8080/"
        },
        "id": "pFXR1gut4sMb",
        "outputId": "3ee91d24-badb-46f0-aeb1-395f93b7449c"
      },
      "execution_count": null,
      "outputs": [
        {
          "output_type": "stream",
          "name": "stdout",
          "text": [
            "Loaded 66 docs\n"
          ]
        }
      ]
    },
    {
      "cell_type": "code",
      "source": [
        "index = VectorStoreIndex.from_documents(documents)"
      ],
      "metadata": {
        "id": "HhpiGPGwuomO"
      },
      "execution_count": null,
      "outputs": []
    },
    {
      "cell_type": "code",
      "source": [
        "query = \"what does the data describe in general. give a brief overview\"\n",
        "\n",
        "query_engine = index.as_query_engine()\n",
        "response = query_engine.query(query)\n",
        "print(response)"
      ],
      "metadata": {
        "colab": {
          "base_uri": "https://localhost:8080/"
        },
        "id": "EpGfDIGYuqsn",
        "outputId": "f7d8e6b9-5593-44d4-da6b-b401b3551522"
      },
      "execution_count": null,
      "outputs": [
        {
          "output_type": "stream",
          "name": "stdout",
          "text": [
            "The data appears to describe various types of crushers and their performance metrics, such as throughput, power consumption, and specific performance indicators related to crushing efficiency. It seems to provide a detailed analysis of different types of crushers and their operational characteristics for industrial purposes.\n"
          ]
        }
      ]
    },
    {
      "cell_type": "code",
      "source": [
        "query = \"which type of machines all have throughput greater than 80 tons per hour. give the reference to the document from which this information was found\"\n",
        "\n",
        "query_engine = index.as_query_engine()\n",
        "response = query_engine.query(query)\n",
        "print(response)"
      ],
      "metadata": {
        "colab": {
          "base_uri": "https://localhost:8080/"
        },
        "id": "_jHqR0Hlu5_X",
        "outputId": "3b040081-9090-417f-d6d6-12f408459642"
      },
      "execution_count": null,
      "outputs": [
        {
          "output_type": "stream",
          "name": "stdout",
          "text": [
            "The types of machines with throughput greater than 80 tons per hour are:\n",
            "- TITAN® 56 D 75\n",
            "- TITAN® 64 D 75\n",
            "- TITAN® 72 D 100\n",
            "- TITAN® 80 D 100\n",
            "- TITAN® 88 D 100\n",
            "- TITAN® 60 D 160\n",
            "- TITAN® 70 D 160\n",
            "- TITAN® 80 D 160\n",
            "- TITAN® 90 D 160\n",
            "- TITAN® 96 D 180\n",
            "- TITAN® 108 D 180\n",
            "\n",
            "This information was found in the document located at file_path: /content/data/Thyssen Hammer titan.pdf, specifically on page_label: 6.\n"
          ]
        }
      ]
    },
    {
      "cell_type": "code",
      "source": [
        "query = \"what are all the recommended machines, conveyors and separators that should be used together which optimize high throughput and low power consumption. also give the references to the documents from which this information was found \"\n",
        "\n",
        "query_engine = index.as_query_engine()\n",
        "response = query_engine.query(query)\n",
        "print(response)"
      ],
      "metadata": {
        "colab": {
          "base_uri": "https://localhost:8080/"
        },
        "id": "iXeB2ZvUvFJe",
        "outputId": "c9fe58b9-81fe-4fd1-ae4d-f37c7a8f846c"
      },
      "execution_count": null,
      "outputs": [
        {
          "output_type": "stream",
          "name": "stdout",
          "text": [
            "The recommended machines, conveyors, and separators that should be used together to optimize high throughput and low power consumption are the following:\n",
            "1. Reversible single and double-shaft hammer mill with various drive concepts for optimal utilization of beater heads.\n",
            "2. Mechanically adjustable grinding walls for wear compensation and achieving the desired final particle size.\n",
            "3. Hydraulically adjustable grinding walls for varying tasks based on product quality and particle size distribution.\n",
            "4. Pressure-resistant housing design for applications with explosive products.\n",
            "5. Hammer mill with a rotating grinding track for very moist products prone to sticking.\n",
            "6. Hammer mill with heated grinding walls (electric, steam, or thermal oil) to improve material flow for materials prone to sticking.\n",
            "7. Hammer mill with exchangeable grate to limit oversize particles (not suitable for moist, sticky, and clay-like materials).\n",
            "8. Grinding for drying to reduce material moisture while simultaneously crushing during processing.\n",
            "\n",
            "The information was found in the document located at file_path: /content/data/Aubema Prallspalter-Hammermue.pdf.\n"
          ]
        }
      ]
    },
    {
      "cell_type": "code",
      "source": [],
      "metadata": {
        "id": "KuHlbopFwOoQ"
      },
      "execution_count": null,
      "outputs": []
    },
    {
      "cell_type": "markdown",
      "source": [
        "## chat UI"
      ],
      "metadata": {
        "id": "ex0WyZvbyq0p"
      }
    },
    {
      "cell_type": "code",
      "source": [
        "# import streamlit as st\n",
        "# import openai\n",
        "# from llama_index.llms.openai import OpenAI\n",
        "# try:\n",
        "#   from llama_index import VectorStoreIndex, ServiceContext, Document, SimpleDirectoryReader\n",
        "# except ImportError:\n",
        "#   from llama_index.core import VectorStoreIndex, ServiceContext, Document, SimpleDirectoryReader\n"
      ],
      "metadata": {
        "id": "8tPMUWxryu7X"
      },
      "execution_count": null,
      "outputs": []
    },
    {
      "cell_type": "code",
      "source": [
        "# st.set_page_config(page_title=\"Chat with docs from your company's technical resources, powered by RWTH, LlamaIndex and Streamlit\", page_icon=\"🦙\", layout=\"centered\", initial_sidebar_state=\"auto\", menu_items=None)\n",
        "# openai.api_key = st.secrets.openai_key\n",
        "# st.title(\"Chat with \")\n",
        "# st.info(\"Check out the full tutorial to build this app in our [blog post](https://blog.streamlit.io/build-a-chatbot-with-custom-data-sources-powered-by-llamaindex/)\", icon=\"📃\")\n",
        "\n",
        "# if \"messages\" not in st.session_state.keys(): # Initialize the chat messages history\n",
        "#     st.session_state.messages = [\n",
        "#         {\"role\": \"assistant\", \"content\": \"Ask me a question about Streamlit's open-source Python library!\"}\n",
        "#     ]\n",
        "\n",
        "# @st.cache_resource(show_spinner=False)\n",
        "# def load_data():\n",
        "#     with st.spinner(text=\"Loading and indexing the Streamlit docs – hang tight! This should take 1-2 minutes.\"):\n",
        "#         reader = SimpleDirectoryReader(input_dir=\"./data\", recursive=True)\n",
        "#         docs = reader.load_data()\n",
        "#         # llm = OpenAI(model=\"gpt-3.5-turbo\", temperature=0.5, system_prompt=\"You are an expert o$\n",
        "#         # index = VectorStoreIndex.from_documents(docs)\n",
        "#         service_context = ServiceContext.from_defaults(llm=OpenAI(model=\"gpt-3.5-turbo\", temperature=0.5, system_prompt=\"You are an expert on the Streamlit Python library and your job is to answer technical questions. Assume that all questions are related to the Streamlit Python library. Keep your answers technical and based on facts – do not hallucinate features.\"))\n",
        "#         index = VectorStoreIndex.from_documents(docs, service_context=service_context)\n",
        "#         return index\n",
        "\n",
        "# index = load_data()\n",
        "\n",
        "# if \"chat_engine\" not in st.session_state.keys(): # Initialize the chat engine\n",
        "#         st.session_state.chat_engine = index.as_chat_engine(chat_mode=\"condense_question\", verbose=True)\n",
        "\n",
        "# if prompt := st.chat_input(\"Your question\"): # Prompt for user input and save to chat history\n",
        "#     st.session_state.messages.append({\"role\": \"user\", \"content\": prompt})\n",
        "\n",
        "# for message in st.session_state.messages: # Display the prior chat messages\n",
        "#     with st.chat_message(message[\"role\"]):\n",
        "#         st.write(message[\"content\"])\n",
        "\n",
        "# # If last message is not from assistant, generate a new response\n",
        "# if st.session_state.messages[-1][\"role\"] != \"assistant\":\n",
        "#     with st.chat_message(\"assistant\"):\n",
        "#         with st.spinner(\"Thinking...\"):\n",
        "#             response = st.session_state.chat_engine.chat(prompt)\n",
        "#             st.write(response.response)\n",
        "#             message = {\"role\": \"assistant\", \"content\": response.response}\n",
        "#             st.session_state.messages.append(message) # Add response to message history"
      ],
      "metadata": {
        "id": "Um7DUiRKyqX2"
      },
      "execution_count": null,
      "outputs": []
    },
    {
      "cell_type": "code",
      "source": [],
      "metadata": {
        "id": "4TCGHgyiyqU9"
      },
      "execution_count": null,
      "outputs": []
    },
    {
      "cell_type": "code",
      "source": [
        "!pip install -q streamlit\n",
        "!pip install ipwhois\n",
        "!npm install localtunnel"
      ],
      "metadata": {
        "id": "wsIJlTJbyqSn"
      },
      "execution_count": null,
      "outputs": []
    },
    {
      "cell_type": "code",
      "source": [
        "!pip -q install pyngrok"
      ],
      "metadata": {
        "id": "Q65S1P0g7tIm"
      },
      "execution_count": null,
      "outputs": []
    },
    {
      "cell_type": "markdown",
      "source": [
        "#### the chat ui streamlit app"
      ],
      "metadata": {
        "id": "JapGjyZ92Cli"
      }
    },
    {
      "cell_type": "code",
      "source": [
        "%%writefile streamlit_chat_ui.py\n",
        "import streamlit as st\n",
        "import openai\n",
        "from llama_index.llms.openai import OpenAI\n",
        "try:\n",
        "  from llama_index import VectorStoreIndex, ServiceContext, Document, SimpleDirectoryReader\n",
        "except ImportError:\n",
        "  from llama_index.core import VectorStoreIndex, ServiceContext, Document, SimpleDirectoryReader\n",
        "\n",
        "system_prompt_ = \"You are a technical research assistant in the domain of mining and mineral processing. \\\n",
        "                                            You speacialize in recommending technical design parameters and are an expert in giving suggestions based on the corpus of technical documents provided. \\\n",
        "                                            Be as helpful and descriptive as you can be. Always refer to the loaded technical documents and give references to the documents from where the information was found.\"\n",
        "\n",
        "st.set_page_config(page_title=\"Chat with docs from your company's technical resources, powered by RWTH Aachen, LlamaIndex and Streamlit\", page_icon=\"🦙\", layout=\"centered\", initial_sidebar_state=\"auto\", menu_items=None)\n",
        "openai.api_key = st.secrets.openai_key\n",
        "st.title(\"Mining Crushing Plant Design Recommendation System Chatbot and Technical Assistant\")\n",
        "st.info(\"\", icon=\"📃\")\n",
        "\n",
        "if \"messages\" not in st.session_state.keys(): # Initialize the chat messages history\n",
        "    st.session_state.messages = [\n",
        "        {\"role\": \"assistant\", \"content\": \"Give a brief descriptive overview of the technical documents that you are working with now.\"}\n",
        "    ]\n",
        "\n",
        "@st.cache_resource(show_spinner=False)\n",
        "def load_data():\n",
        "    with st.spinner(text=\"Loading and indexing the technical docs – hang tight! This should take 1-2 minutes.\"):\n",
        "        reader = SimpleDirectoryReader(input_dir=\"./data\", recursive=True)\n",
        "        docs = reader.load_data()\n",
        "        # llm = OpenAI(model=\"gpt-3.5-turbo\", temperature=0.5, system_prompt=\"You are an expert o$\n",
        "        # index = VectorStoreIndex.from_documents(docs)\n",
        "        service_context = ServiceContext.from_defaults(llm=OpenAI(model=\"gpt-4\", temperature=0.5, system_prompt=system_prompt_))\n",
        "        index = VectorStoreIndex.from_documents(docs, service_context=service_context)\n",
        "        return index\n",
        "\n",
        "index = load_data()\n",
        "\n",
        "if \"chat_engine\" not in st.session_state.keys(): # Initialize the chat engine\n",
        "        st.session_state.chat_engine = index.as_chat_engine(chat_mode=\"condense_question\", verbose=True)\n",
        "\n",
        "if prompt := st.chat_input(\"Your question\"): # Prompt for user input and save to chat history\n",
        "    st.session_state.messages.append({\"role\": \"user\", \"content\": prompt})\n",
        "\n",
        "for message in st.session_state.messages: # Display the prior chat messages\n",
        "    with st.chat_message(message[\"role\"]):\n",
        "        st.write(message[\"content\"])\n",
        "\n",
        "# If last message is not from assistant, generate a new response\n",
        "if st.session_state.messages[-1][\"role\"] != \"assistant\":\n",
        "    with st.chat_message(\"assistant\"):\n",
        "        with st.spinner(\"Thinking...\"):\n",
        "            response = st.session_state.chat_engine.chat(prompt)\n",
        "            st.write(response.response)\n",
        "            message = {\"role\": \"assistant\", \"content\": response.response}\n",
        "            st.session_state.messages.append(message) # Add response to message history"
      ],
      "metadata": {
        "colab": {
          "base_uri": "https://localhost:8080/"
        },
        "id": "pGIIAFd3yqQY",
        "outputId": "161f8114-3ab8-45ba-9b18-c359f755dfeb"
      },
      "execution_count": null,
      "outputs": [
        {
          "output_type": "stream",
          "name": "stdout",
          "text": [
            "Overwriting streamlit_chat_ui.py\n"
          ]
        }
      ]
    },
    {
      "cell_type": "markdown",
      "source": [
        "#### get colab notebook network info"
      ],
      "metadata": {
        "id": "Wl6wm3au2vXC"
      }
    },
    {
      "cell_type": "code",
      "source": [
        "!curl https://loca.lt/mytunnelpassword"
      ],
      "metadata": {
        "colab": {
          "base_uri": "https://localhost:8080/"
        },
        "id": "9KL1I0zR6Ps4",
        "outputId": "300414eb-527f-49b8-d7c6-833525709c0c"
      },
      "execution_count": null,
      "outputs": [
        {
          "output_type": "stream",
          "name": "stdout",
          "text": [
            "34.71.126.138"
          ]
        }
      ]
    },
    {
      "cell_type": "code",
      "source": [
        "# from ipwhois import IPWhois\n",
        "# from requests import get\n",
        "\n",
        "# ip = get('https://api.ipify.org').text\n",
        "# whois = IPWhois(ip).lookup_rdap(depth=1)\n",
        "# cidr = whois['network']['cidr']\n",
        "# name = whois['network']['name']\n",
        "\n",
        "# print('\\n')\n",
        "# print('Provider:  ', name)\n",
        "# print('Public IP: ', ip)\n",
        "# print('CIDRs:     ', cidr)"
      ],
      "metadata": {
        "colab": {
          "base_uri": "https://localhost:8080/"
        },
        "id": "uXcMciwayqNx",
        "outputId": "b84ad5bf-8647-4a47-f402-4fd2128cedae"
      },
      "execution_count": null,
      "outputs": [
        {
          "output_type": "stream",
          "name": "stdout",
          "text": [
            "\n",
            "\n",
            "Provider:   GOOGL-2\n",
            "Public IP:  34.71.126.138\n",
            "CIDRs:      34.64.0.0/10\n"
          ]
        }
      ]
    },
    {
      "cell_type": "markdown",
      "source": [
        "### run the app in the background"
      ],
      "metadata": {
        "id": "LK_LLPD-6ePC"
      }
    },
    {
      "cell_type": "code",
      "source": [
        "!streamlit run /content/streamlit_chat_ui.py &>/content/logs.txt &"
      ],
      "metadata": {
        "id": "a0fpIP4tyqLK"
      },
      "execution_count": null,
      "outputs": []
    },
    {
      "cell_type": "code",
      "source": [
        "!npx localtunnel --port 8501"
      ],
      "metadata": {
        "colab": {
          "base_uri": "https://localhost:8080/"
        },
        "id": "eIDarrC2yqIw",
        "outputId": "57e921fb-77b6-442b-9a98-c93c73a2e363"
      },
      "execution_count": null,
      "outputs": [
        {
          "output_type": "stream",
          "name": "stdout",
          "text": [
            "\u001b[K\u001b[?25hnpx: installed 22 in 2.191s\n",
            "your url is: https://cool-jars-hammer.loca.lt\n",
            "^C\n"
          ]
        }
      ]
    },
    {
      "cell_type": "markdown",
      "source": [
        "#### ngrok based hosting | alternative to localtunnel"
      ],
      "metadata": {
        "id": "vk67Yi4v7itU"
      }
    },
    {
      "cell_type": "code",
      "source": [
        "#@title This last cell would keep the app running. If stoped, the app would be disconnected.\n",
        "from pyngrok import ngrok\n",
        "public_url = ngrok.connect(port='80')\n",
        "print('Link to web app:')\n",
        "print(public_url)\n",
        "!streamlit run --server.port 80 streamlit_chat_ui.py >/dev/null"
      ],
      "metadata": {
        "colab": {
          "base_uri": "https://localhost:8080/",
          "height": 446
        },
        "id": "oKp6uUi74WNa",
        "outputId": "cfa7bafc-dae1-43c0-fd2c-fbc5a193232a"
      },
      "execution_count": null,
      "outputs": [
        {
          "output_type": "stream",
          "name": "stdout",
          "text": []
        },
        {
          "output_type": "stream",
          "name": "stderr",
          "text": [
            "ERROR:pyngrok.process.ngrok:t=2024-05-25T13:28:30+0000 lvl=eror msg=\"failed to reconnect session\" obj=tunnels.session err=\"authentication failed: Usage of ngrok requires a verified account and authtoken.\\n\\nSign up for an account: https://dashboard.ngrok.com/signup\\nInstall your authtoken: https://dashboard.ngrok.com/get-started/your-authtoken\\r\\n\\r\\nERR_NGROK_4018\\r\\n\"\n",
            "ERROR:pyngrok.process.ngrok:t=2024-05-25T13:28:30+0000 lvl=eror msg=\"session closing\" obj=tunnels.session err=\"authentication failed: Usage of ngrok requires a verified account and authtoken.\\n\\nSign up for an account: https://dashboard.ngrok.com/signup\\nInstall your authtoken: https://dashboard.ngrok.com/get-started/your-authtoken\\r\\n\\r\\nERR_NGROK_4018\\r\\n\"\n",
            "ERROR:pyngrok.process.ngrok:t=2024-05-25T13:28:30+0000 lvl=eror msg=\"terminating with error\" obj=app err=\"authentication failed: Usage of ngrok requires a verified account and authtoken.\\n\\nSign up for an account: https://dashboard.ngrok.com/signup\\nInstall your authtoken: https://dashboard.ngrok.com/get-started/your-authtoken\\r\\n\\r\\nERR_NGROK_4018\\r\\n\"\n"
          ]
        },
        {
          "output_type": "error",
          "ename": "PyngrokNgrokError",
          "evalue": "The ngrok process errored on start: authentication failed: Usage of ngrok requires a verified account and authtoken.\\n\\nSign up for an account: https://dashboard.ngrok.com/signup\\nInstall your authtoken: https://dashboard.ngrok.com/get-started/your-authtoken\\r\\n\\r\\nERR_NGROK_4018\\r\\n.",
          "traceback": [
            "\u001b[0;31m---------------------------------------------------------------------------\u001b[0m",
            "\u001b[0;31mPyngrokNgrokError\u001b[0m                         Traceback (most recent call last)",
            "\u001b[0;32m<ipython-input-7-86c10995a7dd>\u001b[0m in \u001b[0;36m<cell line: 3>\u001b[0;34m()\u001b[0m\n\u001b[1;32m      1\u001b[0m \u001b[0;31m#@title This last cell would keep the app running. If stoped, the app would be disconnected.\u001b[0m\u001b[0;34m\u001b[0m\u001b[0;34m\u001b[0m\u001b[0m\n\u001b[1;32m      2\u001b[0m \u001b[0;32mfrom\u001b[0m \u001b[0mpyngrok\u001b[0m \u001b[0;32mimport\u001b[0m \u001b[0mngrok\u001b[0m\u001b[0;34m\u001b[0m\u001b[0;34m\u001b[0m\u001b[0m\n\u001b[0;32m----> 3\u001b[0;31m \u001b[0mpublic_url\u001b[0m \u001b[0;34m=\u001b[0m \u001b[0mngrok\u001b[0m\u001b[0;34m.\u001b[0m\u001b[0mconnect\u001b[0m\u001b[0;34m(\u001b[0m\u001b[0mport\u001b[0m\u001b[0;34m=\u001b[0m\u001b[0;34m'80'\u001b[0m\u001b[0;34m)\u001b[0m\u001b[0;34m\u001b[0m\u001b[0;34m\u001b[0m\u001b[0m\n\u001b[0m\u001b[1;32m      4\u001b[0m \u001b[0mprint\u001b[0m\u001b[0;34m(\u001b[0m\u001b[0;34m'Link to web app:'\u001b[0m\u001b[0;34m)\u001b[0m\u001b[0;34m\u001b[0m\u001b[0;34m\u001b[0m\u001b[0m\n\u001b[1;32m      5\u001b[0m \u001b[0mprint\u001b[0m\u001b[0;34m(\u001b[0m\u001b[0mpublic_url\u001b[0m\u001b[0;34m)\u001b[0m\u001b[0;34m\u001b[0m\u001b[0;34m\u001b[0m\u001b[0m\n",
            "\u001b[0;32m/usr/local/lib/python3.10/dist-packages/pyngrok/ngrok.py\u001b[0m in \u001b[0;36mconnect\u001b[0;34m(addr, proto, name, pyngrok_config, **options)\u001b[0m\n\u001b[1;32m    314\u001b[0m             \u001b[0moptions\u001b[0m\u001b[0;34m.\u001b[0m\u001b[0mpop\u001b[0m\u001b[0;34m(\u001b[0m\u001b[0;34m\"auth\"\u001b[0m\u001b[0;34m)\u001b[0m\u001b[0;34m\u001b[0m\u001b[0;34m\u001b[0m\u001b[0m\n\u001b[1;32m    315\u001b[0m \u001b[0;34m\u001b[0m\u001b[0m\n\u001b[0;32m--> 316\u001b[0;31m     \u001b[0mapi_url\u001b[0m \u001b[0;34m=\u001b[0m \u001b[0mget_ngrok_process\u001b[0m\u001b[0;34m(\u001b[0m\u001b[0mpyngrok_config\u001b[0m\u001b[0;34m)\u001b[0m\u001b[0;34m.\u001b[0m\u001b[0mapi_url\u001b[0m\u001b[0;34m\u001b[0m\u001b[0;34m\u001b[0m\u001b[0m\n\u001b[0m\u001b[1;32m    317\u001b[0m \u001b[0;34m\u001b[0m\u001b[0m\n\u001b[1;32m    318\u001b[0m     \u001b[0mlogger\u001b[0m\u001b[0;34m.\u001b[0m\u001b[0mdebug\u001b[0m\u001b[0;34m(\u001b[0m\u001b[0;34mf\"Creating tunnel with options: {options}\"\u001b[0m\u001b[0;34m)\u001b[0m\u001b[0;34m\u001b[0m\u001b[0;34m\u001b[0m\u001b[0m\n",
            "\u001b[0;32m/usr/local/lib/python3.10/dist-packages/pyngrok/ngrok.py\u001b[0m in \u001b[0;36mget_ngrok_process\u001b[0;34m(pyngrok_config)\u001b[0m\n\u001b[1;32m    154\u001b[0m     \u001b[0minstall_ngrok\u001b[0m\u001b[0;34m(\u001b[0m\u001b[0mpyngrok_config\u001b[0m\u001b[0;34m)\u001b[0m\u001b[0;34m\u001b[0m\u001b[0;34m\u001b[0m\u001b[0m\n\u001b[1;32m    155\u001b[0m \u001b[0;34m\u001b[0m\u001b[0m\n\u001b[0;32m--> 156\u001b[0;31m     \u001b[0;32mreturn\u001b[0m \u001b[0mprocess\u001b[0m\u001b[0;34m.\u001b[0m\u001b[0mget_process\u001b[0m\u001b[0;34m(\u001b[0m\u001b[0mpyngrok_config\u001b[0m\u001b[0;34m)\u001b[0m\u001b[0;34m\u001b[0m\u001b[0;34m\u001b[0m\u001b[0m\n\u001b[0m\u001b[1;32m    157\u001b[0m \u001b[0;34m\u001b[0m\u001b[0m\n\u001b[1;32m    158\u001b[0m \u001b[0;34m\u001b[0m\u001b[0m\n",
            "\u001b[0;32m/usr/local/lib/python3.10/dist-packages/pyngrok/process.py\u001b[0m in \u001b[0;36mget_process\u001b[0;34m(pyngrok_config)\u001b[0m\n\u001b[1;32m    233\u001b[0m         \u001b[0;32mreturn\u001b[0m \u001b[0m_current_processes\u001b[0m\u001b[0;34m[\u001b[0m\u001b[0mpyngrok_config\u001b[0m\u001b[0;34m.\u001b[0m\u001b[0mngrok_path\u001b[0m\u001b[0;34m]\u001b[0m\u001b[0;34m\u001b[0m\u001b[0;34m\u001b[0m\u001b[0m\n\u001b[1;32m    234\u001b[0m \u001b[0;34m\u001b[0m\u001b[0m\n\u001b[0;32m--> 235\u001b[0;31m     \u001b[0;32mreturn\u001b[0m \u001b[0m_start_process\u001b[0m\u001b[0;34m(\u001b[0m\u001b[0mpyngrok_config\u001b[0m\u001b[0;34m)\u001b[0m\u001b[0;34m\u001b[0m\u001b[0;34m\u001b[0m\u001b[0m\n\u001b[0m\u001b[1;32m    236\u001b[0m \u001b[0;34m\u001b[0m\u001b[0m\n\u001b[1;32m    237\u001b[0m \u001b[0;34m\u001b[0m\u001b[0m\n",
            "\u001b[0;32m/usr/local/lib/python3.10/dist-packages/pyngrok/process.py\u001b[0m in \u001b[0;36m_start_process\u001b[0;34m(pyngrok_config)\u001b[0m\n\u001b[1;32m    396\u001b[0m \u001b[0;34m\u001b[0m\u001b[0m\n\u001b[1;32m    397\u001b[0m         \u001b[0;32mif\u001b[0m \u001b[0mngrok_process\u001b[0m\u001b[0;34m.\u001b[0m\u001b[0mstartup_error\u001b[0m \u001b[0;32mis\u001b[0m \u001b[0;32mnot\u001b[0m \u001b[0;32mNone\u001b[0m\u001b[0;34m:\u001b[0m\u001b[0;34m\u001b[0m\u001b[0;34m\u001b[0m\u001b[0m\n\u001b[0;32m--> 398\u001b[0;31m             raise PyngrokNgrokError(f\"The ngrok process errored on start: {ngrok_process.startup_error}.\",\n\u001b[0m\u001b[1;32m    399\u001b[0m                                     \u001b[0mngrok_process\u001b[0m\u001b[0;34m.\u001b[0m\u001b[0mlogs\u001b[0m\u001b[0;34m,\u001b[0m\u001b[0;34m\u001b[0m\u001b[0;34m\u001b[0m\u001b[0m\n\u001b[1;32m    400\u001b[0m                                     ngrok_process.startup_error)\n",
            "\u001b[0;31mPyngrokNgrokError\u001b[0m: The ngrok process errored on start: authentication failed: Usage of ngrok requires a verified account and authtoken.\\n\\nSign up for an account: https://dashboard.ngrok.com/signup\\nInstall your authtoken: https://dashboard.ngrok.com/get-started/your-authtoken\\r\\n\\r\\nERR_NGROK_4018\\r\\n."
          ]
        }
      ]
    },
    {
      "cell_type": "code",
      "source": [],
      "metadata": {
        "id": "HpzA1dds8Dxq"
      },
      "execution_count": null,
      "outputs": []
    }
  ]
}